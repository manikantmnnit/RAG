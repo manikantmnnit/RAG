{
  "nbformat": 4,
  "nbformat_minor": 0,
  "metadata": {
    "colab": {
      "provenance": [],
      "gpuType": "T4",
      "include_colab_link": true
    },
    "kernelspec": {
      "name": "python3",
      "display_name": "Python 3"
    },
    "language_info": {
      "name": "python"
    },
    "accelerator": "GPU",
    "widgets": {
      "application/vnd.jupyter.widget-state+json": {
        "fa30e57e44b84be5aca4b99d371477aa": {
          "model_module": "@jupyter-widgets/controls",
          "model_name": "HBoxModel",
          "model_module_version": "1.5.0",
          "state": {
            "_dom_classes": [],
            "_model_module": "@jupyter-widgets/controls",
            "_model_module_version": "1.5.0",
            "_model_name": "HBoxModel",
            "_view_count": null,
            "_view_module": "@jupyter-widgets/controls",
            "_view_module_version": "1.5.0",
            "_view_name": "HBoxView",
            "box_style": "",
            "children": [
              "IPY_MODEL_b4777d8848ab495d97933c2c942ce28a",
              "IPY_MODEL_81e096cd9d524cb6bcf6d05443b7e4c4",
              "IPY_MODEL_0e64e85c50f6414b8227d956323d0f0b"
            ],
            "layout": "IPY_MODEL_8f19a8662dfc4bfbab64769d01e333de"
          }
        },
        "b4777d8848ab495d97933c2c942ce28a": {
          "model_module": "@jupyter-widgets/controls",
          "model_name": "HTMLModel",
          "model_module_version": "1.5.0",
          "state": {
            "_dom_classes": [],
            "_model_module": "@jupyter-widgets/controls",
            "_model_module_version": "1.5.0",
            "_model_name": "HTMLModel",
            "_view_count": null,
            "_view_module": "@jupyter-widgets/controls",
            "_view_module_version": "1.5.0",
            "_view_name": "HTMLView",
            "description": "",
            "description_tooltip": null,
            "layout": "IPY_MODEL_c4930352085f4befb9dc9ffbcb305c59",
            "placeholder": "​",
            "style": "IPY_MODEL_d9ca1c89c11b439591fc3e9b0aedd241",
            "value": "Loading checkpoint shards: 100%"
          }
        },
        "81e096cd9d524cb6bcf6d05443b7e4c4": {
          "model_module": "@jupyter-widgets/controls",
          "model_name": "FloatProgressModel",
          "model_module_version": "1.5.0",
          "state": {
            "_dom_classes": [],
            "_model_module": "@jupyter-widgets/controls",
            "_model_module_version": "1.5.0",
            "_model_name": "FloatProgressModel",
            "_view_count": null,
            "_view_module": "@jupyter-widgets/controls",
            "_view_module_version": "1.5.0",
            "_view_name": "ProgressView",
            "bar_style": "success",
            "description": "",
            "description_tooltip": null,
            "layout": "IPY_MODEL_7b80045e64fe4fa3a8367f808460e09c",
            "max": 8,
            "min": 0,
            "orientation": "horizontal",
            "style": "IPY_MODEL_4e656d5b56e44dd28b05233ed8439eef",
            "value": 8
          }
        },
        "0e64e85c50f6414b8227d956323d0f0b": {
          "model_module": "@jupyter-widgets/controls",
          "model_name": "HTMLModel",
          "model_module_version": "1.5.0",
          "state": {
            "_dom_classes": [],
            "_model_module": "@jupyter-widgets/controls",
            "_model_module_version": "1.5.0",
            "_model_name": "HTMLModel",
            "_view_count": null,
            "_view_module": "@jupyter-widgets/controls",
            "_view_module_version": "1.5.0",
            "_view_name": "HTMLView",
            "description": "",
            "description_tooltip": null,
            "layout": "IPY_MODEL_1a34557543294154b92891bafea4429d",
            "placeholder": "​",
            "style": "IPY_MODEL_7a4d7d3377ca4d459c74e7d7e2d06f79",
            "value": " 8/8 [01:02&lt;00:00,  6.84s/it]"
          }
        },
        "8f19a8662dfc4bfbab64769d01e333de": {
          "model_module": "@jupyter-widgets/base",
          "model_name": "LayoutModel",
          "model_module_version": "1.2.0",
          "state": {
            "_model_module": "@jupyter-widgets/base",
            "_model_module_version": "1.2.0",
            "_model_name": "LayoutModel",
            "_view_count": null,
            "_view_module": "@jupyter-widgets/base",
            "_view_module_version": "1.2.0",
            "_view_name": "LayoutView",
            "align_content": null,
            "align_items": null,
            "align_self": null,
            "border": null,
            "bottom": null,
            "display": null,
            "flex": null,
            "flex_flow": null,
            "grid_area": null,
            "grid_auto_columns": null,
            "grid_auto_flow": null,
            "grid_auto_rows": null,
            "grid_column": null,
            "grid_gap": null,
            "grid_row": null,
            "grid_template_areas": null,
            "grid_template_columns": null,
            "grid_template_rows": null,
            "height": null,
            "justify_content": null,
            "justify_items": null,
            "left": null,
            "margin": null,
            "max_height": null,
            "max_width": null,
            "min_height": null,
            "min_width": null,
            "object_fit": null,
            "object_position": null,
            "order": null,
            "overflow": null,
            "overflow_x": null,
            "overflow_y": null,
            "padding": null,
            "right": null,
            "top": null,
            "visibility": null,
            "width": null
          }
        },
        "c4930352085f4befb9dc9ffbcb305c59": {
          "model_module": "@jupyter-widgets/base",
          "model_name": "LayoutModel",
          "model_module_version": "1.2.0",
          "state": {
            "_model_module": "@jupyter-widgets/base",
            "_model_module_version": "1.2.0",
            "_model_name": "LayoutModel",
            "_view_count": null,
            "_view_module": "@jupyter-widgets/base",
            "_view_module_version": "1.2.0",
            "_view_name": "LayoutView",
            "align_content": null,
            "align_items": null,
            "align_self": null,
            "border": null,
            "bottom": null,
            "display": null,
            "flex": null,
            "flex_flow": null,
            "grid_area": null,
            "grid_auto_columns": null,
            "grid_auto_flow": null,
            "grid_auto_rows": null,
            "grid_column": null,
            "grid_gap": null,
            "grid_row": null,
            "grid_template_areas": null,
            "grid_template_columns": null,
            "grid_template_rows": null,
            "height": null,
            "justify_content": null,
            "justify_items": null,
            "left": null,
            "margin": null,
            "max_height": null,
            "max_width": null,
            "min_height": null,
            "min_width": null,
            "object_fit": null,
            "object_position": null,
            "order": null,
            "overflow": null,
            "overflow_x": null,
            "overflow_y": null,
            "padding": null,
            "right": null,
            "top": null,
            "visibility": null,
            "width": null
          }
        },
        "d9ca1c89c11b439591fc3e9b0aedd241": {
          "model_module": "@jupyter-widgets/controls",
          "model_name": "DescriptionStyleModel",
          "model_module_version": "1.5.0",
          "state": {
            "_model_module": "@jupyter-widgets/controls",
            "_model_module_version": "1.5.0",
            "_model_name": "DescriptionStyleModel",
            "_view_count": null,
            "_view_module": "@jupyter-widgets/base",
            "_view_module_version": "1.2.0",
            "_view_name": "StyleView",
            "description_width": ""
          }
        },
        "7b80045e64fe4fa3a8367f808460e09c": {
          "model_module": "@jupyter-widgets/base",
          "model_name": "LayoutModel",
          "model_module_version": "1.2.0",
          "state": {
            "_model_module": "@jupyter-widgets/base",
            "_model_module_version": "1.2.0",
            "_model_name": "LayoutModel",
            "_view_count": null,
            "_view_module": "@jupyter-widgets/base",
            "_view_module_version": "1.2.0",
            "_view_name": "LayoutView",
            "align_content": null,
            "align_items": null,
            "align_self": null,
            "border": null,
            "bottom": null,
            "display": null,
            "flex": null,
            "flex_flow": null,
            "grid_area": null,
            "grid_auto_columns": null,
            "grid_auto_flow": null,
            "grid_auto_rows": null,
            "grid_column": null,
            "grid_gap": null,
            "grid_row": null,
            "grid_template_areas": null,
            "grid_template_columns": null,
            "grid_template_rows": null,
            "height": null,
            "justify_content": null,
            "justify_items": null,
            "left": null,
            "margin": null,
            "max_height": null,
            "max_width": null,
            "min_height": null,
            "min_width": null,
            "object_fit": null,
            "object_position": null,
            "order": null,
            "overflow": null,
            "overflow_x": null,
            "overflow_y": null,
            "padding": null,
            "right": null,
            "top": null,
            "visibility": null,
            "width": null
          }
        },
        "4e656d5b56e44dd28b05233ed8439eef": {
          "model_module": "@jupyter-widgets/controls",
          "model_name": "ProgressStyleModel",
          "model_module_version": "1.5.0",
          "state": {
            "_model_module": "@jupyter-widgets/controls",
            "_model_module_version": "1.5.0",
            "_model_name": "ProgressStyleModel",
            "_view_count": null,
            "_view_module": "@jupyter-widgets/base",
            "_view_module_version": "1.2.0",
            "_view_name": "StyleView",
            "bar_color": null,
            "description_width": ""
          }
        },
        "1a34557543294154b92891bafea4429d": {
          "model_module": "@jupyter-widgets/base",
          "model_name": "LayoutModel",
          "model_module_version": "1.2.0",
          "state": {
            "_model_module": "@jupyter-widgets/base",
            "_model_module_version": "1.2.0",
            "_model_name": "LayoutModel",
            "_view_count": null,
            "_view_module": "@jupyter-widgets/base",
            "_view_module_version": "1.2.0",
            "_view_name": "LayoutView",
            "align_content": null,
            "align_items": null,
            "align_self": null,
            "border": null,
            "bottom": null,
            "display": null,
            "flex": null,
            "flex_flow": null,
            "grid_area": null,
            "grid_auto_columns": null,
            "grid_auto_flow": null,
            "grid_auto_rows": null,
            "grid_column": null,
            "grid_gap": null,
            "grid_row": null,
            "grid_template_areas": null,
            "grid_template_columns": null,
            "grid_template_rows": null,
            "height": null,
            "justify_content": null,
            "justify_items": null,
            "left": null,
            "margin": null,
            "max_height": null,
            "max_width": null,
            "min_height": null,
            "min_width": null,
            "object_fit": null,
            "object_position": null,
            "order": null,
            "overflow": null,
            "overflow_x": null,
            "overflow_y": null,
            "padding": null,
            "right": null,
            "top": null,
            "visibility": null,
            "width": null
          }
        },
        "7a4d7d3377ca4d459c74e7d7e2d06f79": {
          "model_module": "@jupyter-widgets/controls",
          "model_name": "DescriptionStyleModel",
          "model_module_version": "1.5.0",
          "state": {
            "_model_module": "@jupyter-widgets/controls",
            "_model_module_version": "1.5.0",
            "_model_name": "DescriptionStyleModel",
            "_view_count": null,
            "_view_module": "@jupyter-widgets/base",
            "_view_module_version": "1.2.0",
            "_view_name": "StyleView",
            "description_width": ""
          }
        }
      }
    }
  },
  "cells": [
    {
      "cell_type": "markdown",
      "metadata": {
        "id": "view-in-github",
        "colab_type": "text"
      },
      "source": [
        "<a href=\"https://colab.research.google.com/github/manikantmnnit/RAG/blob/main/Hybrid_Search_and_reranking_in_RAG.ipynb\" target=\"_parent\"><img src=\"https://colab.research.google.com/assets/colab-badge.svg\" alt=\"Open In Colab\"/></a>"
      ]
    },
    {
      "cell_type": "markdown",
      "source": [],
      "metadata": {
        "id": "ZHlE17nUjXnp"
      }
    },
    {
      "cell_type": "code",
      "execution_count": 32,
      "metadata": {
        "id": "qmp_SaX69q18",
        "colab": {
          "base_uri": "https://localhost:8080/"
        },
        "outputId": "39fe2751-8f44-4700-e93f-497e5f302be1"
      },
      "outputs": [
        {
          "output_type": "stream",
          "name": "stdout",
          "text": [
            "Requirement already satisfied: weaviate-client in /usr/local/lib/python3.10/dist-packages (4.6.5)\n",
            "Requirement already satisfied: install in /usr/local/lib/python3.10/dist-packages (1.3.5)\n",
            "Requirement already satisfied: langchain in /usr/local/lib/python3.10/dist-packages (0.2.7)\n",
            "Requirement already satisfied: langchain-community in /usr/local/lib/python3.10/dist-packages (0.2.7)\n",
            "Requirement already satisfied: requests<3.0.0,>=2.30.0 in /usr/local/lib/python3.10/dist-packages (from weaviate-client) (2.31.0)\n",
            "Requirement already satisfied: httpx<=0.27.0,>=0.25.0 in /usr/local/lib/python3.10/dist-packages (from weaviate-client) (0.27.0)\n",
            "Requirement already satisfied: validators==0.28.3 in /usr/local/lib/python3.10/dist-packages (from weaviate-client) (0.28.3)\n",
            "Requirement already satisfied: authlib<2.0.0,>=1.2.1 in /usr/local/lib/python3.10/dist-packages (from weaviate-client) (1.3.1)\n",
            "Requirement already satisfied: pydantic<3.0.0,>=2.5.0 in /usr/local/lib/python3.10/dist-packages (from weaviate-client) (2.8.0)\n",
            "Requirement already satisfied: grpcio<2.0.0,>=1.57.0 in /usr/local/lib/python3.10/dist-packages (from weaviate-client) (1.64.1)\n",
            "Requirement already satisfied: grpcio-tools<2.0.0,>=1.57.0 in /usr/local/lib/python3.10/dist-packages (from weaviate-client) (1.64.1)\n",
            "Requirement already satisfied: grpcio-health-checking<2.0.0,>=1.57.0 in /usr/local/lib/python3.10/dist-packages (from weaviate-client) (1.64.1)\n",
            "Requirement already satisfied: PyYAML>=5.3 in /usr/local/lib/python3.10/dist-packages (from langchain) (6.0.1)\n",
            "Requirement already satisfied: SQLAlchemy<3,>=1.4 in /usr/local/lib/python3.10/dist-packages (from langchain) (2.0.31)\n",
            "Requirement already satisfied: aiohttp<4.0.0,>=3.8.3 in /usr/local/lib/python3.10/dist-packages (from langchain) (3.9.5)\n",
            "Requirement already satisfied: async-timeout<5.0.0,>=4.0.0 in /usr/local/lib/python3.10/dist-packages (from langchain) (4.0.3)\n",
            "Requirement already satisfied: langchain-core<0.3.0,>=0.2.12 in /usr/local/lib/python3.10/dist-packages (from langchain) (0.2.12)\n",
            "Requirement already satisfied: langchain-text-splitters<0.3.0,>=0.2.0 in /usr/local/lib/python3.10/dist-packages (from langchain) (0.2.2)\n",
            "Requirement already satisfied: langsmith<0.2.0,>=0.1.17 in /usr/local/lib/python3.10/dist-packages (from langchain) (0.1.84)\n",
            "Requirement already satisfied: numpy<2,>=1 in /usr/local/lib/python3.10/dist-packages (from langchain) (1.25.2)\n",
            "Requirement already satisfied: tenacity!=8.4.0,<9.0.0,>=8.1.0 in /usr/local/lib/python3.10/dist-packages (from langchain) (8.4.2)\n",
            "Requirement already satisfied: dataclasses-json<0.7,>=0.5.7 in /usr/local/lib/python3.10/dist-packages (from langchain-community) (0.6.7)\n",
            "Requirement already satisfied: aiosignal>=1.1.2 in /usr/local/lib/python3.10/dist-packages (from aiohttp<4.0.0,>=3.8.3->langchain) (1.3.1)\n",
            "Requirement already satisfied: attrs>=17.3.0 in /usr/local/lib/python3.10/dist-packages (from aiohttp<4.0.0,>=3.8.3->langchain) (23.2.0)\n",
            "Requirement already satisfied: frozenlist>=1.1.1 in /usr/local/lib/python3.10/dist-packages (from aiohttp<4.0.0,>=3.8.3->langchain) (1.4.1)\n",
            "Requirement already satisfied: multidict<7.0,>=4.5 in /usr/local/lib/python3.10/dist-packages (from aiohttp<4.0.0,>=3.8.3->langchain) (6.0.5)\n",
            "Requirement already satisfied: yarl<2.0,>=1.0 in /usr/local/lib/python3.10/dist-packages (from aiohttp<4.0.0,>=3.8.3->langchain) (1.9.4)\n",
            "Requirement already satisfied: cryptography in /usr/local/lib/python3.10/dist-packages (from authlib<2.0.0,>=1.2.1->weaviate-client) (42.0.8)\n",
            "Requirement already satisfied: marshmallow<4.0.0,>=3.18.0 in /usr/local/lib/python3.10/dist-packages (from dataclasses-json<0.7,>=0.5.7->langchain-community) (3.21.3)\n",
            "Requirement already satisfied: typing-inspect<1,>=0.4.0 in /usr/local/lib/python3.10/dist-packages (from dataclasses-json<0.7,>=0.5.7->langchain-community) (0.9.0)\n",
            "Requirement already satisfied: protobuf<6.0dev,>=5.26.1 in /usr/local/lib/python3.10/dist-packages (from grpcio-health-checking<2.0.0,>=1.57.0->weaviate-client) (5.27.2)\n",
            "Requirement already satisfied: setuptools in /usr/local/lib/python3.10/dist-packages (from grpcio-tools<2.0.0,>=1.57.0->weaviate-client) (67.7.2)\n",
            "Requirement already satisfied: anyio in /usr/local/lib/python3.10/dist-packages (from httpx<=0.27.0,>=0.25.0->weaviate-client) (3.7.1)\n",
            "Requirement already satisfied: certifi in /usr/local/lib/python3.10/dist-packages (from httpx<=0.27.0,>=0.25.0->weaviate-client) (2024.6.2)\n",
            "Requirement already satisfied: httpcore==1.* in /usr/local/lib/python3.10/dist-packages (from httpx<=0.27.0,>=0.25.0->weaviate-client) (1.0.5)\n",
            "Requirement already satisfied: idna in /usr/local/lib/python3.10/dist-packages (from httpx<=0.27.0,>=0.25.0->weaviate-client) (3.7)\n",
            "Requirement already satisfied: sniffio in /usr/local/lib/python3.10/dist-packages (from httpx<=0.27.0,>=0.25.0->weaviate-client) (1.3.1)\n",
            "Requirement already satisfied: h11<0.15,>=0.13 in /usr/local/lib/python3.10/dist-packages (from httpcore==1.*->httpx<=0.27.0,>=0.25.0->weaviate-client) (0.14.0)\n",
            "Requirement already satisfied: jsonpatch<2.0,>=1.33 in /usr/local/lib/python3.10/dist-packages (from langchain-core<0.3.0,>=0.2.12->langchain) (1.33)\n",
            "Requirement already satisfied: packaging<25,>=23.2 in /usr/local/lib/python3.10/dist-packages (from langchain-core<0.3.0,>=0.2.12->langchain) (24.1)\n",
            "Requirement already satisfied: orjson<4.0.0,>=3.9.14 in /usr/local/lib/python3.10/dist-packages (from langsmith<0.2.0,>=0.1.17->langchain) (3.10.6)\n",
            "Requirement already satisfied: annotated-types>=0.4.0 in /usr/local/lib/python3.10/dist-packages (from pydantic<3.0.0,>=2.5.0->weaviate-client) (0.7.0)\n",
            "Requirement already satisfied: pydantic-core==2.20.0 in /usr/local/lib/python3.10/dist-packages (from pydantic<3.0.0,>=2.5.0->weaviate-client) (2.20.0)\n",
            "Requirement already satisfied: typing-extensions>=4.6.1 in /usr/local/lib/python3.10/dist-packages (from pydantic<3.0.0,>=2.5.0->weaviate-client) (4.12.2)\n",
            "Requirement already satisfied: charset-normalizer<4,>=2 in /usr/local/lib/python3.10/dist-packages (from requests<3.0.0,>=2.30.0->weaviate-client) (3.3.2)\n",
            "Requirement already satisfied: urllib3<3,>=1.21.1 in /usr/local/lib/python3.10/dist-packages (from requests<3.0.0,>=2.30.0->weaviate-client) (2.0.7)\n",
            "Requirement already satisfied: greenlet!=0.4.17 in /usr/local/lib/python3.10/dist-packages (from SQLAlchemy<3,>=1.4->langchain) (3.0.3)\n",
            "Requirement already satisfied: jsonpointer>=1.9 in /usr/local/lib/python3.10/dist-packages (from jsonpatch<2.0,>=1.33->langchain-core<0.3.0,>=0.2.12->langchain) (3.0.0)\n",
            "Requirement already satisfied: mypy-extensions>=0.3.0 in /usr/local/lib/python3.10/dist-packages (from typing-inspect<1,>=0.4.0->dataclasses-json<0.7,>=0.5.7->langchain-community) (1.0.0)\n",
            "Requirement already satisfied: exceptiongroup in /usr/local/lib/python3.10/dist-packages (from anyio->httpx<=0.27.0,>=0.25.0->weaviate-client) (1.2.1)\n",
            "Requirement already satisfied: cffi>=1.12 in /usr/local/lib/python3.10/dist-packages (from cryptography->authlib<2.0.0,>=1.2.1->weaviate-client) (1.16.0)\n",
            "Requirement already satisfied: pycparser in /usr/local/lib/python3.10/dist-packages (from cffi>=1.12->cryptography->authlib<2.0.0,>=1.2.1->weaviate-client) (2.22)\n"
          ]
        }
      ],
      "source": [
        "!pip install weaviate-client install langchain langchain-community"
      ]
    },
    {
      "cell_type": "code",
      "source": [
        "import weaviate\n",
        "import os"
      ],
      "metadata": {
        "id": "RSik_tYq-JRN"
      },
      "execution_count": 33,
      "outputs": []
    },
    {
      "cell_type": "code",
      "source": [
        "from google.colab import userdata\n",
        "HF_TOKEN=userdata.get('HF_TOKEN_Key')"
      ],
      "metadata": {
        "id": "QavsGkCqqS6A"
      },
      "execution_count": 34,
      "outputs": []
    },
    {
      "cell_type": "code",
      "source": [
        "auth_config = weaviate.AuthApiKey(api_key=\"QzZCaKS9jW0laKzJYkMe9ZpnGrdbdwUFYfEa\")\n",
        "\n",
        "client = weaviate.Client(\n",
        "  url=\"https://hybrid-search-ztcug8ad.weaviate.network\",\n",
        "  auth_client_secret=auth_config,\n",
        "  additional_headers = {\n",
        "        \"X-HuggingFace-Api-Key\": HF_TOKEN\n",
        "        }\n",
        ")"
      ],
      "metadata": {
        "id": "ovLN44VY-6tU"
      },
      "execution_count": 35,
      "outputs": []
    },
    {
      "cell_type": "code",
      "source": [
        "client.is_ready()\n"
      ],
      "metadata": {
        "id": "Z93YcxMF_iCN",
        "colab": {
          "base_uri": "https://localhost:8080/"
        },
        "outputId": "4ce7fe2f-f938-4025-c536-eb5df5d8e657"
      },
      "execution_count": 36,
      "outputs": [
        {
          "output_type": "execute_result",
          "data": {
            "text/plain": [
              "True"
            ]
          },
          "metadata": {},
          "execution_count": 36
        }
      ]
    },
    {
      "cell_type": "code",
      "source": [
        "# The database schema defines how data is stored, organized and retrieved in Weaviate\n",
        "schema = {\n",
        "    \"classes\": [\n",
        "        {\n",
        "            \"class\": \"RAG\",\n",
        "            \"description\": \"Documents for RAG\",\n",
        "            \"vectorizer\": \"text2vec-huggingface\",\n",
        "            \"moduleConfig\": {\"text2vec-huggingface\": {\"model\": \"sentence-transformers/all-MiniLM-L6-v2\", \"type\": \"text\"}},\n",
        "            \"properties\": [\n",
        "                {\n",
        "                    \"dataType\": [\"text\"],\n",
        "                    \"description\": \"The content of the paragraph\",\n",
        "                    \"moduleConfig\": {\n",
        "                        \"text2vec-huggingface\": {\n",
        "                            \"skip\": False,\n",
        "                            \"vectorizePropertyName\": False,\n",
        "                        }\n",
        "                    },\n",
        "                    \"name\": \"content\",\n",
        "                },\n",
        "            ],\n",
        "        },\n",
        "    ]\n",
        "}\n"
      ],
      "metadata": {
        "id": "EBGBb0LMuZtw"
      },
      "execution_count": 37,
      "outputs": []
    },
    {
      "cell_type": "code",
      "source": [
        "client.schema.create(schema)"
      ],
      "metadata": {
        "id": "6ouOrLG2B9wj",
        "colab": {
          "base_uri": "https://localhost:8080/",
          "height": 298
        },
        "outputId": "e1d2d703-4b70-4a7d-e02a-9097c44635b5"
      },
      "execution_count": 38,
      "outputs": [
        {
          "output_type": "error",
          "ename": "UnexpectedStatusCodeError",
          "evalue": "Create class! Unexpected status code: 422, with response body: {'error': [{'message': 'class name RAG already exists'}]}.",
          "traceback": [
            "\u001b[0;31m---------------------------------------------------------------------------\u001b[0m",
            "\u001b[0;31mUnexpectedStatusCodeError\u001b[0m                 Traceback (most recent call last)",
            "\u001b[0;32m<ipython-input-38-b84a9078a6be>\u001b[0m in \u001b[0;36m<cell line: 1>\u001b[0;34m()\u001b[0m\n\u001b[0;32m----> 1\u001b[0;31m \u001b[0mclient\u001b[0m\u001b[0;34m.\u001b[0m\u001b[0mschema\u001b[0m\u001b[0;34m.\u001b[0m\u001b[0mcreate\u001b[0m\u001b[0;34m(\u001b[0m\u001b[0mschema\u001b[0m\u001b[0;34m)\u001b[0m\u001b[0;34m\u001b[0m\u001b[0;34m\u001b[0m\u001b[0m\n\u001b[0m",
            "\u001b[0;32m/usr/local/lib/python3.10/dist-packages/weaviate/schema/crud_schema.py\u001b[0m in \u001b[0;36mcreate\u001b[0;34m(self, schema)\u001b[0m\n\u001b[1;32m    199\u001b[0m \u001b[0;34m\u001b[0m\u001b[0m\n\u001b[1;32m    200\u001b[0m         \u001b[0mloaded_schema\u001b[0m \u001b[0;34m=\u001b[0m \u001b[0m_get_dict_from_object\u001b[0m\u001b[0;34m(\u001b[0m\u001b[0mschema\u001b[0m\u001b[0;34m)\u001b[0m\u001b[0;34m\u001b[0m\u001b[0;34m\u001b[0m\u001b[0m\n\u001b[0;32m--> 201\u001b[0;31m         \u001b[0mself\u001b[0m\u001b[0;34m.\u001b[0m\u001b[0m_create_classes_with_primitives\u001b[0m\u001b[0;34m(\u001b[0m\u001b[0mloaded_schema\u001b[0m\u001b[0;34m[\u001b[0m\u001b[0;34m\"classes\"\u001b[0m\u001b[0;34m]\u001b[0m\u001b[0;34m)\u001b[0m\u001b[0;34m\u001b[0m\u001b[0;34m\u001b[0m\u001b[0m\n\u001b[0m\u001b[1;32m    202\u001b[0m         \u001b[0mself\u001b[0m\u001b[0;34m.\u001b[0m\u001b[0m_create_complex_properties_from_classes\u001b[0m\u001b[0;34m(\u001b[0m\u001b[0mloaded_schema\u001b[0m\u001b[0;34m[\u001b[0m\u001b[0;34m\"classes\"\u001b[0m\u001b[0;34m]\u001b[0m\u001b[0;34m)\u001b[0m\u001b[0;34m\u001b[0m\u001b[0;34m\u001b[0m\u001b[0m\n\u001b[1;32m    203\u001b[0m \u001b[0;34m\u001b[0m\u001b[0m\n",
            "\u001b[0;32m/usr/local/lib/python3.10/dist-packages/weaviate/schema/crud_schema.py\u001b[0m in \u001b[0;36m_create_classes_with_primitives\u001b[0;34m(self, schema_classes_list)\u001b[0m\n\u001b[1;32m    830\u001b[0m \u001b[0;34m\u001b[0m\u001b[0m\n\u001b[1;32m    831\u001b[0m         \u001b[0;32mfor\u001b[0m \u001b[0mweaviate_class\u001b[0m \u001b[0;32min\u001b[0m \u001b[0mschema_classes_list\u001b[0m\u001b[0;34m:\u001b[0m\u001b[0;34m\u001b[0m\u001b[0;34m\u001b[0m\u001b[0m\n\u001b[0;32m--> 832\u001b[0;31m             \u001b[0mself\u001b[0m\u001b[0;34m.\u001b[0m\u001b[0m_create_class_with_primitives\u001b[0m\u001b[0;34m(\u001b[0m\u001b[0mweaviate_class\u001b[0m\u001b[0;34m)\u001b[0m\u001b[0;34m\u001b[0m\u001b[0;34m\u001b[0m\u001b[0m\n\u001b[0m\u001b[1;32m    833\u001b[0m \u001b[0;34m\u001b[0m\u001b[0m\n\u001b[1;32m    834\u001b[0m     \u001b[0;32mdef\u001b[0m \u001b[0madd_class_tenants\u001b[0m\u001b[0;34m(\u001b[0m\u001b[0mself\u001b[0m\u001b[0;34m,\u001b[0m \u001b[0mclass_name\u001b[0m\u001b[0;34m:\u001b[0m \u001b[0mstr\u001b[0m\u001b[0;34m,\u001b[0m \u001b[0mtenants\u001b[0m\u001b[0;34m:\u001b[0m \u001b[0mList\u001b[0m\u001b[0;34m[\u001b[0m\u001b[0mTenant\u001b[0m\u001b[0;34m]\u001b[0m\u001b[0;34m)\u001b[0m \u001b[0;34m->\u001b[0m \u001b[0;32mNone\u001b[0m\u001b[0;34m:\u001b[0m\u001b[0;34m\u001b[0m\u001b[0;34m\u001b[0m\u001b[0m\n",
            "\u001b[0;32m/usr/local/lib/python3.10/dist-packages/weaviate/schema/crud_schema.py\u001b[0m in \u001b[0;36m_create_class_with_primitives\u001b[0;34m(self, weaviate_class)\u001b[0m\n\u001b[1;32m    815\u001b[0m             \u001b[0;32mraise\u001b[0m \u001b[0mRequestsConnectionError\u001b[0m\u001b[0;34m(\u001b[0m\u001b[0;34m\"Class may not have been created properly.\"\u001b[0m\u001b[0;34m)\u001b[0m \u001b[0;32mfrom\u001b[0m \u001b[0mconn_err\u001b[0m\u001b[0;34m\u001b[0m\u001b[0;34m\u001b[0m\u001b[0m\n\u001b[1;32m    816\u001b[0m         \u001b[0;32mif\u001b[0m \u001b[0mresponse\u001b[0m\u001b[0;34m.\u001b[0m\u001b[0mstatus_code\u001b[0m \u001b[0;34m!=\u001b[0m \u001b[0;36m200\u001b[0m\u001b[0;34m:\u001b[0m\u001b[0;34m\u001b[0m\u001b[0;34m\u001b[0m\u001b[0m\n\u001b[0;32m--> 817\u001b[0;31m             \u001b[0;32mraise\u001b[0m \u001b[0mUnexpectedStatusCodeException\u001b[0m\u001b[0;34m(\u001b[0m\u001b[0;34m\"Create class\"\u001b[0m\u001b[0;34m,\u001b[0m \u001b[0mresponse\u001b[0m\u001b[0;34m)\u001b[0m\u001b[0;34m\u001b[0m\u001b[0;34m\u001b[0m\u001b[0m\n\u001b[0m\u001b[1;32m    818\u001b[0m \u001b[0;34m\u001b[0m\u001b[0m\n\u001b[1;32m    819\u001b[0m     \u001b[0;32mdef\u001b[0m \u001b[0m_create_classes_with_primitives\u001b[0m\u001b[0;34m(\u001b[0m\u001b[0mself\u001b[0m\u001b[0;34m,\u001b[0m \u001b[0mschema_classes_list\u001b[0m\u001b[0;34m:\u001b[0m \u001b[0mlist\u001b[0m\u001b[0;34m)\u001b[0m \u001b[0;34m->\u001b[0m \u001b[0;32mNone\u001b[0m\u001b[0;34m:\u001b[0m\u001b[0;34m\u001b[0m\u001b[0;34m\u001b[0m\u001b[0m\n",
            "\u001b[0;31mUnexpectedStatusCodeError\u001b[0m: Create class! Unexpected status code: 422, with response body: {'error': [{'message': 'class name RAG already exists'}]}."
          ]
        }
      ]
    },
    {
      "cell_type": "code",
      "source": [
        "client.schema.get()"
      ],
      "metadata": {
        "id": "9zR5jAGHC3bS",
        "colab": {
          "base_uri": "https://localhost:8080/"
        },
        "outputId": "da0123fd-dc98-4b76-fecd-2ac1c1fd4718"
      },
      "execution_count": 39,
      "outputs": [
        {
          "output_type": "execute_result",
          "data": {
            "text/plain": [
              "{'classes': [{'class': 'RAG',\n",
              "   'description': 'Documents for RAG',\n",
              "   'invertedIndexConfig': {'bm25': {'b': 0.75, 'k1': 1.2},\n",
              "    'cleanupIntervalSeconds': 60,\n",
              "    'stopwords': {'additions': None, 'preset': 'en', 'removals': None}},\n",
              "   'moduleConfig': {'text2vec-huggingface': {'model': 'sentence-transformers/all-MiniLM-L6-v2',\n",
              "     'type': 'text',\n",
              "     'vectorizeClassName': True}},\n",
              "   'multiTenancyConfig': {'autoTenantActivation': False,\n",
              "    'autoTenantCreation': False,\n",
              "    'enabled': False},\n",
              "   'properties': [{'dataType': ['text'],\n",
              "     'description': 'The content of the paragraph',\n",
              "     'indexFilterable': True,\n",
              "     'indexSearchable': True,\n",
              "     'moduleConfig': {'text2vec-huggingface': {'skip': False,\n",
              "       'vectorizePropertyName': False}},\n",
              "     'name': 'content',\n",
              "     'tokenization': 'word'},\n",
              "    {'dataType': ['text'],\n",
              "     'description': \"This property was generated by Weaviate's auto-schema feature on Wed Jul  3 18:34:58 2024\",\n",
              "     'indexFilterable': True,\n",
              "     'indexSearchable': True,\n",
              "     'moduleConfig': {'text2vec-huggingface': {'skip': False,\n",
              "       'vectorizePropertyName': False}},\n",
              "     'name': 'source',\n",
              "     'tokenization': 'word'},\n",
              "    {'dataType': ['number'],\n",
              "     'description': \"This property was generated by Weaviate's auto-schema feature on Wed Jul  3 18:34:58 2024\",\n",
              "     'indexFilterable': True,\n",
              "     'indexSearchable': False,\n",
              "     'moduleConfig': {'text2vec-huggingface': {'skip': False,\n",
              "       'vectorizePropertyName': False}},\n",
              "     'name': 'page'}],\n",
              "   'replicationConfig': {'factor': 1},\n",
              "   'shardingConfig': {'actualCount': 1,\n",
              "    'actualVirtualCount': 128,\n",
              "    'desiredCount': 1,\n",
              "    'desiredVirtualCount': 128,\n",
              "    'function': 'murmur3',\n",
              "    'key': '_id',\n",
              "    'strategy': 'hash',\n",
              "    'virtualPerPhysical': 128},\n",
              "   'vectorIndexConfig': {'bq': {'enabled': False},\n",
              "    'cleanupIntervalSeconds': 300,\n",
              "    'distance': 'cosine',\n",
              "    'dynamicEfFactor': 8,\n",
              "    'dynamicEfMax': 500,\n",
              "    'dynamicEfMin': 100,\n",
              "    'ef': -1,\n",
              "    'efConstruction': 128,\n",
              "    'flatSearchCutoff': 40000,\n",
              "    'maxConnections': 64,\n",
              "    'pq': {'bitCompression': False,\n",
              "     'centroids': 256,\n",
              "     'enabled': False,\n",
              "     'encoder': {'distribution': 'log-normal', 'type': 'kmeans'},\n",
              "     'segments': 0,\n",
              "     'trainingLimit': 100000},\n",
              "    'skip': False,\n",
              "    'vectorCacheMaxObjects': 1000000000000},\n",
              "   'vectorIndexType': 'hnsw',\n",
              "   'vectorizer': 'text2vec-huggingface'}]}"
            ]
          },
          "metadata": {},
          "execution_count": 39
        }
      ]
    },
    {
      "cell_type": "code",
      "source": [
        "from langchain.retrievers.weaviate_hybrid_search import WeaviateHybridSearchRetriever"
      ],
      "metadata": {
        "id": "9fYFxszF_lTL"
      },
      "execution_count": 40,
      "outputs": []
    },
    {
      "cell_type": "code",
      "source": [
        "retriever = WeaviateHybridSearchRetriever(\n",
        "    alpha = 0.5,               # defaults to 0.5, which is equal weighting between keyword and semantic search\n",
        "    client = client,           # keyword arguments to pass to the Weaviate client\n",
        "    index_name = \"RAG\",  # The name of the index to use\n",
        "    text_key = \"content\",         # The name of the text key to use\n",
        "    attributes = [], # The attributes to return in the results\n",
        "    create_schema_if_missing=True,\n",
        ")"
      ],
      "metadata": {
        "id": "xDD_FAKZ_sZK"
      },
      "execution_count": 41,
      "outputs": []
    },
    {
      "cell_type": "code",
      "source": [
        "model_name = \"HuggingFaceH4/zephyr-7b-beta\""
      ],
      "metadata": {
        "id": "RJLYAGHbE1Z5"
      },
      "execution_count": 42,
      "outputs": []
    },
    {
      "cell_type": "code",
      "source": [
        "!pip install bitsandbytes accelerate"
      ],
      "metadata": {
        "colab": {
          "base_uri": "https://localhost:8080/"
        },
        "id": "1w6ml1DsEv-q",
        "outputId": "8bf37964-b139-43a9-99c9-b976a8d4682b"
      },
      "execution_count": 43,
      "outputs": [
        {
          "output_type": "stream",
          "name": "stdout",
          "text": [
            "Requirement already satisfied: bitsandbytes in /usr/local/lib/python3.10/dist-packages (0.43.1)\n",
            "Requirement already satisfied: accelerate in /usr/local/lib/python3.10/dist-packages (0.32.1)\n",
            "Requirement already satisfied: torch in /usr/local/lib/python3.10/dist-packages (from bitsandbytes) (2.3.0+cu121)\n",
            "Requirement already satisfied: numpy in /usr/local/lib/python3.10/dist-packages (from bitsandbytes) (1.25.2)\n",
            "Requirement already satisfied: packaging>=20.0 in /usr/local/lib/python3.10/dist-packages (from accelerate) (24.1)\n",
            "Requirement already satisfied: psutil in /usr/local/lib/python3.10/dist-packages (from accelerate) (5.9.5)\n",
            "Requirement already satisfied: pyyaml in /usr/local/lib/python3.10/dist-packages (from accelerate) (6.0.1)\n",
            "Requirement already satisfied: huggingface-hub in /usr/local/lib/python3.10/dist-packages (from accelerate) (0.23.4)\n",
            "Requirement already satisfied: safetensors>=0.3.1 in /usr/local/lib/python3.10/dist-packages (from accelerate) (0.4.3)\n",
            "Requirement already satisfied: filelock in /usr/local/lib/python3.10/dist-packages (from torch->bitsandbytes) (3.15.4)\n",
            "Requirement already satisfied: typing-extensions>=4.8.0 in /usr/local/lib/python3.10/dist-packages (from torch->bitsandbytes) (4.12.2)\n",
            "Requirement already satisfied: sympy in /usr/local/lib/python3.10/dist-packages (from torch->bitsandbytes) (1.12.1)\n",
            "Requirement already satisfied: networkx in /usr/local/lib/python3.10/dist-packages (from torch->bitsandbytes) (3.3)\n",
            "Requirement already satisfied: jinja2 in /usr/local/lib/python3.10/dist-packages (from torch->bitsandbytes) (3.1.4)\n",
            "Requirement already satisfied: fsspec in /usr/local/lib/python3.10/dist-packages (from torch->bitsandbytes) (2023.6.0)\n",
            "Requirement already satisfied: nvidia-cuda-nvrtc-cu12==12.1.105 in /usr/local/lib/python3.10/dist-packages (from torch->bitsandbytes) (12.1.105)\n",
            "Requirement already satisfied: nvidia-cuda-runtime-cu12==12.1.105 in /usr/local/lib/python3.10/dist-packages (from torch->bitsandbytes) (12.1.105)\n",
            "Requirement already satisfied: nvidia-cuda-cupti-cu12==12.1.105 in /usr/local/lib/python3.10/dist-packages (from torch->bitsandbytes) (12.1.105)\n",
            "Requirement already satisfied: nvidia-cudnn-cu12==8.9.2.26 in /usr/local/lib/python3.10/dist-packages (from torch->bitsandbytes) (8.9.2.26)\n",
            "Requirement already satisfied: nvidia-cublas-cu12==12.1.3.1 in /usr/local/lib/python3.10/dist-packages (from torch->bitsandbytes) (12.1.3.1)\n",
            "Requirement already satisfied: nvidia-cufft-cu12==11.0.2.54 in /usr/local/lib/python3.10/dist-packages (from torch->bitsandbytes) (11.0.2.54)\n",
            "Requirement already satisfied: nvidia-curand-cu12==10.3.2.106 in /usr/local/lib/python3.10/dist-packages (from torch->bitsandbytes) (10.3.2.106)\n",
            "Requirement already satisfied: nvidia-cusolver-cu12==11.4.5.107 in /usr/local/lib/python3.10/dist-packages (from torch->bitsandbytes) (11.4.5.107)\n",
            "Requirement already satisfied: nvidia-cusparse-cu12==12.1.0.106 in /usr/local/lib/python3.10/dist-packages (from torch->bitsandbytes) (12.1.0.106)\n",
            "Requirement already satisfied: nvidia-nccl-cu12==2.20.5 in /usr/local/lib/python3.10/dist-packages (from torch->bitsandbytes) (2.20.5)\n",
            "Requirement already satisfied: nvidia-nvtx-cu12==12.1.105 in /usr/local/lib/python3.10/dist-packages (from torch->bitsandbytes) (12.1.105)\n",
            "Requirement already satisfied: triton==2.3.0 in /usr/local/lib/python3.10/dist-packages (from torch->bitsandbytes) (2.3.0)\n",
            "Requirement already satisfied: nvidia-nvjitlink-cu12 in /usr/local/lib/python3.10/dist-packages (from nvidia-cusolver-cu12==11.4.5.107->torch->bitsandbytes) (12.5.82)\n",
            "Requirement already satisfied: requests in /usr/local/lib/python3.10/dist-packages (from huggingface-hub->accelerate) (2.31.0)\n",
            "Requirement already satisfied: tqdm>=4.42.1 in /usr/local/lib/python3.10/dist-packages (from huggingface-hub->accelerate) (4.66.4)\n",
            "Requirement already satisfied: MarkupSafe>=2.0 in /usr/local/lib/python3.10/dist-packages (from jinja2->torch->bitsandbytes) (2.1.5)\n",
            "Requirement already satisfied: charset-normalizer<4,>=2 in /usr/local/lib/python3.10/dist-packages (from requests->huggingface-hub->accelerate) (3.3.2)\n",
            "Requirement already satisfied: idna<4,>=2.5 in /usr/local/lib/python3.10/dist-packages (from requests->huggingface-hub->accelerate) (3.7)\n",
            "Requirement already satisfied: urllib3<3,>=1.21.1 in /usr/local/lib/python3.10/dist-packages (from requests->huggingface-hub->accelerate) (2.0.7)\n",
            "Requirement already satisfied: certifi>=2017.4.17 in /usr/local/lib/python3.10/dist-packages (from requests->huggingface-hub->accelerate) (2024.6.2)\n",
            "Requirement already satisfied: mpmath<1.4.0,>=1.1.0 in /usr/local/lib/python3.10/dist-packages (from sympy->torch->bitsandbytes) (1.3.0)\n"
          ]
        }
      ]
    },
    {
      "cell_type": "code",
      "source": [
        "import torch\n",
        "from transformers import ( AutoModelForCausalLM, AutoTokenizer, BitsAndBytesConfig, pipeline, )\n",
        "from langchain import HuggingFacePipeline"
      ],
      "metadata": {
        "id": "7YcsnAveEiFy"
      },
      "execution_count": 44,
      "outputs": []
    },
    {
      "cell_type": "code",
      "source": [
        "# function for loading 4-bit quantized model\n",
        "def load_quantized_model(model_name: str):\n",
        "    \"\"\"\n",
        "    model_name: Name or path of the model to be loaded.\n",
        "    return: Loaded quantized model.\n",
        "    \"\"\"\n",
        "    bnb_config = BitsAndBytesConfig(\n",
        "        load_in_4bit=True,\n",
        "        bnb_4bit_use_double_quant=True,\n",
        "        bnb_4bit_quant_type=\"nf4\",\n",
        "        bnb_4bit_compute_dtype=torch.bfloat16,\n",
        "        low_cpu_mem_usage=True\n",
        "    )\n",
        "\n",
        "    model = AutoModelForCausalLM.from_pretrained(\n",
        "        model_name,\n",
        "        torch_dtype=torch.bfloat16,\n",
        "        quantization_config=bnb_config,\n",
        "    )\n",
        "    return model"
      ],
      "metadata": {
        "id": "Yflg19-qEiJs"
      },
      "execution_count": 45,
      "outputs": []
    },
    {
      "cell_type": "code",
      "source": [
        "# initializing tokenizer\n",
        "def initialize_tokenizer(model_name: str):\n",
        "    \"\"\"\n",
        "    model_name: Name or path of the model for tokenizer initialization.\n",
        "    return: Initialized tokenizer.\n",
        "    \"\"\"\n",
        "    tokenizer = AutoTokenizer.from_pretrained(model_name, return_token_type_ids=False)\n",
        "    tokenizer.bos_token_id = 1  # Set beginning of sentence token id\n",
        "    return tokenizer"
      ],
      "metadata": {
        "id": "Pfdzn1ukEiMd"
      },
      "execution_count": 46,
      "outputs": []
    },
    {
      "cell_type": "code",
      "source": [
        "tokenizer = initialize_tokenizer(model_name)"
      ],
      "metadata": {
        "id": "a8UgT93sEiQK"
      },
      "execution_count": 47,
      "outputs": []
    },
    {
      "cell_type": "code",
      "source": [
        "model = load_quantized_model(model_name)"
      ],
      "metadata": {
        "id": "Csv9lG6cErbb",
        "colab": {
          "base_uri": "https://localhost:8080/",
          "height": 85,
          "referenced_widgets": [
            "fa30e57e44b84be5aca4b99d371477aa",
            "b4777d8848ab495d97933c2c942ce28a",
            "81e096cd9d524cb6bcf6d05443b7e4c4",
            "0e64e85c50f6414b8227d956323d0f0b",
            "8f19a8662dfc4bfbab64769d01e333de",
            "c4930352085f4befb9dc9ffbcb305c59",
            "d9ca1c89c11b439591fc3e9b0aedd241",
            "7b80045e64fe4fa3a8367f808460e09c",
            "4e656d5b56e44dd28b05233ed8439eef",
            "1a34557543294154b92891bafea4429d",
            "7a4d7d3377ca4d459c74e7d7e2d06f79"
          ]
        },
        "outputId": "773b4c86-8b8e-4638-a10d-408f7a1a422a"
      },
      "execution_count": 48,
      "outputs": [
        {
          "output_type": "stream",
          "name": "stderr",
          "text": [
            "Unused kwargs: ['low_cpu_mem_usage']. These kwargs are not used in <class 'transformers.utils.quantization_config.BitsAndBytesConfig'>.\n",
            "`low_cpu_mem_usage` was None, now set to True since model is quantized.\n"
          ]
        },
        {
          "output_type": "display_data",
          "data": {
            "text/plain": [
              "Loading checkpoint shards:   0%|          | 0/8 [00:00<?, ?it/s]"
            ],
            "application/vnd.jupyter.widget-view+json": {
              "version_major": 2,
              "version_minor": 0,
              "model_id": "fa30e57e44b84be5aca4b99d371477aa"
            }
          },
          "metadata": {}
        }
      ]
    },
    {
      "cell_type": "code",
      "source": [
        "pipeline = pipeline(\n",
        "    \"text-generation\",\n",
        "    model=model,\n",
        "    tokenizer=tokenizer,\n",
        "    use_cache=True,\n",
        "    device_map=\"auto\",\n",
        "    max_length=3000,\n",
        "    do_sample=True,\n",
        "    top_k=5,\n",
        "    max_new_tokens=100,\n",
        "    num_return_sequences=1,\n",
        "    eos_token_id=tokenizer.eos_token_id,\n",
        "    pad_token_id=tokenizer.pad_token_id,\n",
        ")"
      ],
      "metadata": {
        "id": "IplrZgxvEreX"
      },
      "execution_count": 49,
      "outputs": []
    },
    {
      "cell_type": "code",
      "source": [
        "llm = HuggingFacePipeline(pipeline=pipeline)\n",
        "llm"
      ],
      "metadata": {
        "id": "Uo348jKvErhO",
        "colab": {
          "base_uri": "https://localhost:8080/"
        },
        "outputId": "c61e5ee3-1009-4239-8e42-f11e63d4444a"
      },
      "execution_count": 50,
      "outputs": [
        {
          "output_type": "execute_result",
          "data": {
            "text/plain": [
              "HuggingFacePipeline(pipeline=<transformers.pipelines.text_generation.TextGenerationPipeline object at 0x7ff5d2bb8190>)"
            ]
          },
          "metadata": {},
          "execution_count": 50
        }
      ]
    },
    {
      "cell_type": "code",
      "source": [
        "doc_path=\"/content/CSSP-D-24-00691_reviewer_2.pdf\""
      ],
      "metadata": {
        "id": "uva-5Nkqpr8w"
      },
      "execution_count": 51,
      "outputs": []
    },
    {
      "cell_type": "code",
      "source": [
        "!pip install pypdf"
      ],
      "metadata": {
        "colab": {
          "base_uri": "https://localhost:8080/"
        },
        "id": "BTNRvdSNp9jC",
        "outputId": "67a2b722-cda3-4fe9-f43a-9ac90649b64b"
      },
      "execution_count": 52,
      "outputs": [
        {
          "output_type": "stream",
          "name": "stdout",
          "text": [
            "Requirement already satisfied: pypdf in /usr/local/lib/python3.10/dist-packages (4.2.0)\n",
            "Requirement already satisfied: typing_extensions>=4.0 in /usr/local/lib/python3.10/dist-packages (from pypdf) (4.12.2)\n"
          ]
        }
      ]
    },
    {
      "cell_type": "code",
      "source": [
        "from langchain_community.document_loaders import PyPDFLoader"
      ],
      "metadata": {
        "id": "3n-7-QWyp_8x"
      },
      "execution_count": 53,
      "outputs": []
    },
    {
      "cell_type": "code",
      "source": [
        "loader = PyPDFLoader(doc_path)"
      ],
      "metadata": {
        "id": "nhBRpl8dsHw6"
      },
      "execution_count": 54,
      "outputs": []
    },
    {
      "cell_type": "code",
      "source": [
        "docs = loader.load()"
      ],
      "metadata": {
        "id": "xHegGUGssHzV"
      },
      "execution_count": 55,
      "outputs": []
    },
    {
      "cell_type": "code",
      "source": [
        "docs"
      ],
      "metadata": {
        "colab": {
          "base_uri": "https://localhost:8080/"
        },
        "id": "gpshkBhjvLlC",
        "outputId": "5a4495f3-f82d-45b2-a0ec-b318f6c7f3bc"
      },
      "execution_count": 56,
      "outputs": [
        {
          "output_type": "execute_result",
          "data": {
            "text/plain": [
              "[Document(metadata={'source': '/content/CSSP-D-24-00691_reviewer_2.pdf', 'page': 0}, page_content='Circuits, Systems, and Signal Processing  \\nCriteria to Mitigate Overflow Oscillations in\\xa0Externally Interfered Digital Filters \\n--Manuscript Draft-- \\n \\nManuscript Number: CSSP-D-24-00691\\nFull Title: Criteria to Mitigate Overflow Oscillations in\\xa0Externally Interfered Digital Filters\\nArticle Type: Original Research\\nKeywords: Asymptotic stability;  Digital filters;  External disturbance;  Generalized overflow\\nnonlinearities;  Very strict passivity\\nAbstract: This brief proposes novel asymptotic stability criteria for nonlinear digital filters\\nsubjected to external disturbances and overflow nonlinearities. The proposed\\ncriteria, formulated within the linear matrix inequality framework, guarantees\\nthe passive behavior of the nonlinear digital filter based on its storage function.\\nThese conditions are established via a very strict passivity approach, making\\nthem applicable to various nonlinearity types, including zeroing, saturation, two’s\\ncomplement, and triangular. To validate the theoretical findings, appropriate\\nnumerical examples are demonstrated.\\nPowered by Editorial Manager® and ProduXion Manager® from Aries Systems Corporation'),\n",
              " Document(metadata={'source': '/content/CSSP-D-24-00691_reviewer_2.pdf', 'page': 1}, page_content='Criteria to Mitigate Overflow Oscillations in\\nExternally Interfered Digital Filters\\nMounika Pulikonda and Priyanka Kokil\\nAdvanced Signal and Image Processing (ASIP) Lab, Department of\\nElectronics and Communication Engineering, Indian Institute of\\nInformation Technology, Design and Manufacturing, Kancheepuram,\\nChennai, 600127, India.\\n*Corresponding author(s). E-mail(s): priyanka@iiitdm.ac.in\\nContributing authors: ec21d0001@iiitdm.ac.in\\nAbstract\\nThis brief proposes novel asymptotic stability criteria for nonlinear digital fil-\\nters subjected to external disturbances and overflow nonlinearities. The proposed\\ncriteria, formulated within the linear matrix inequality framework, guarantees\\nthe passive behavior of the nonlinear digital filter based on its storage function.\\nThese conditions are established via a very strict passivity approach, making\\nthem applicable to various nonlinearity types, including zeroing, saturation, two’s\\ncomplement, and triangular. To validate the theoretical findings, appropriate\\nnumerical examples are demonstrated.\\nKeywords: Asymptotic stability, Digital filters, External disturbance, Generalized\\noverflow nonlinearities, Very strict passivity\\n1 Introduction\\nDigital filters have extensively found applications in tracking systems, wireless com-\\nmunication, signal processing, navigation systems, and other domains (Classen et al,\\n1976). Nonlinearities, such as quantization and overflow, are often introduced in fixed-\\npoint digital filters (DF) implemented on processors with finite wordlength. The\\npresence of these nonlinearities can cause instability in the DF. Numerous studies have\\ndiscussed stability issues with DF vulnerable to overflow oscillations and external dis-\\nturbances (Liu and Michel, 1992; Krishna Rao Kandanvli and Kar, 2008; Arockiaraj\\n1Manuscript\\n Click here to access/download;Manuscript;Manuscript.pdf\\n 1 \\n 2 \\n 3 \\n 4 \\n 5 \\n 6 \\n 7 \\n 8 \\n 9 \\n10 \\n11 \\n12 \\n13 \\n14 \\n15 \\n16 \\n17 \\n18 \\n19 \\n20 \\n21 \\n22 \\n23 \\n24 \\n25 \\n26 \\n27 \\n28 \\n29 \\n30 \\n31 \\n32 \\n33 \\n34 \\n35 \\n36 \\n37 \\n38 \\n39 \\n40 \\n41 \\n42 \\n43 \\n44 \\n45 \\n46 \\n47 \\n48 \\n49 \\n50 \\n51 \\n52 \\n53 \\n54 \\n55 \\n56 \\n57 \\n58 \\n59 \\n60 \\n61 \\n62 \\n63 \\n64 \\n65 '),\n",
              " Document(metadata={'source': '/content/CSSP-D-24-00691_reviewer_2.pdf', 'page': 2}, page_content='and Kokil, 2017; Arockiaraj et al, 2017; Amjad et al, 2017; Kar, 2007; Dey and Kar,\\n2011a; Kar and Singh, 2000; Pulikonda and Kokil, 2020; Pulikonda et al, 2023).\\nPassivity is closely intertwined with stability, implying that if the energy input\\nto the system is bounded, the output energy remains bounded. Existing criteria, as\\nmentioned in (Arockiaraj and Kokil, 2017; Arockiaraj et al, 2017; Pulikonda and\\nKokil, 2020; Pulikonda et al, 2023), focus on investigating the stability of nonlinear\\nDFs using saturation overflow nonlinearity alone and not considering other types of\\nnonlinearities. However, the DFs used in real-time applications experience a range\\nof nonlinearities; thus, it is necessary to investigate the stability characteristics of\\nDF under external disturbances and various types of nonlinearities. This motivation\\nunderlies the research presented in this work.\\nDriven by the earlier discussion, the present work delves into the issue of stability\\nin externally interfered DFs with generalized overflow nonlinearities by applying the\\npassivity approach. The notable contributions of this brief are as follows:\\n1. Distinct conditions for externally interfered nonlinear DFs dealing with various\\noverflow nonlinearities, including two’s complement, zeroing, saturation, and trian-\\ngular, are discussed through a very strict passivity (VSP) approach. The derived\\nconditions are formulated using linear matrix inequality (LMI) terms.\\n2. An asymptotic stability condition near zero disturbances for nonlinear DF is also\\naddressed.\\nThe structure of this brief is outlined as given. Section II presents a mathematical\\ndescription of the system under consideration and a definition of the problem. Section\\nIII provides novel stability criteria for nonlinear DFs under various overflow nonlin-\\nearities through the VSP approach. Section IV showcases the numerical examples to\\nsupport the theoretical framework. Lastly, concluding remarks are given in Section V.\\nNotations. In this article, we will consistently use the following notations. The null\\nmatrix and unit matrix of appropriate size are denoted as 0andI, respectively. The\\nset of real matrix (vector) is represented as Rk×k(Rk). A negative (positive) definite\\nsymmetric matrix is defined as Bk×k<0(Bk×k>0) and its transpose is given as\\nBT. The symbol ∗denotes the symmetries in the symmetric matrix B.\\n2 Problem Formulation\\nConsider the state-space representation of DF, which is described as follows:\\nx(n+ 1) = f(y(n)) +w(n), (1a)\\ny(n) =Ax(n) +w(n). (1b)\\nThis DF encompasses various components including a state vector denoted as x(n)∈\\nRk, an output vector y(n)∈Rk, an external interference represented by w(n)∈Rk\\nand generalized overflow nonlinearity fi(yi(n)) (i= 1,2, . . . , k ) and a coefficient matrix\\nAbelonging to the space of real numbers with dimension n×n.\\n2\\n 1 \\n 2 \\n 3 \\n 4 \\n 5 \\n 6 \\n 7 \\n 8 \\n 9 \\n10 \\n11 \\n12 \\n13 \\n14 \\n15 \\n16 \\n17 \\n18 \\n19 \\n20 \\n21 \\n22 \\n23 \\n24 \\n25 \\n26 \\n27 \\n28 \\n29 \\n30 \\n31 \\n32 \\n33 \\n34 \\n35 \\n36 \\n37 \\n38 \\n39 \\n40 \\n41 \\n42 \\n43 \\n44 \\n45 \\n46 \\n47 \\n48 \\n49 \\n50 \\n51 \\n52 \\n53 \\n54 \\n55 \\n56 \\n57 \\n58 \\n59 \\n60 \\n61 \\n62 \\n63 \\n64 \\n65 '),\n",
              " Document(metadata={'source': '/content/CSSP-D-24-00691_reviewer_2.pdf', 'page': 3}, page_content='The mathematical expression for generalized nonlinearity is given as:\\n\\uf8f1\\n\\uf8f4\\uf8f2\\n\\uf8f4\\uf8f3L≤fi(yi(n))≤1, y i(n)>1\\nfi(yi(n)) =yi(n), |yi(n)| ≤1, i= 1,2, . . . , k,\\n−1≤fi(yi(n))≤ −L, y i(n)<−1(2)\\n−1≤L≤1. (3)\\nBy choosing appropriate values of Lin (2)-(3), one can represent a broader range of\\noverflow nonlinearity methods commonly used in practice, including zeroing ( L= 0),\\nsaturation ( L= 1), triangular ( L=−1), and two’s complement ( L=−1).\\nMany practical systems can be characterized by employing (1)-(3) e.g., DF imple-\\nmentation on finite wordlength processors (microprocessors, digital signal processing\\nkits), cryptosystems (Abd El-Latif et al, 2020), missile control systems (Nise , 2014),\\ngene regulatory networks (Zhang et al, 2019), and so on.\\nThe proposed work aims to address two primary objectives. Firstly, the objective\\nis to establish a VSP condition for the state-space interfered nonlinear DF (1)-(3) in\\nthe presence of overflow nonlinearities for all non-zero w(n) =0. The VSP condition\\nis defined as follows:\\nnX\\nl=0wT(l)y(l)−ϵ0nX\\nl=0yT(l)y(l))−γnX\\nl=0wT(l)w(l) +ν≥ϑ(x(l)),∀n≥0.(4)\\nHere, νrepresents the initially stored energy constant, calculated as V(x(0)). The\\nvariables ϵ0,γare positive scalars and ϑ(x(l)) denotes a positive definite storage\\nfunction. Secondly, the proposed approach assures that the system under consideration\\n(1)-(2) is asymptotically stable. It is worth mentioning that the results obtained from\\nthis proposed approach are less conservative when compared to the existing literature\\n(Arockiaraj and Kokil, 2017; Arockiaraj et al, 2017; Pulikonda and Kokil, 2020).\\nThe main findings of the brief are presented in the following section.\\n3 Main Results\\nThis section examines the stability criterion for interfered DF (1)-(3) in the presence\\nof various nonlinearities such as zeroing, saturation, triangular, and two’s complement.\\nThe following set of ranges are considered for L.\\n0≤L≤1, (5)\\n−1≤L <0. (6)\\nEqs. (5) and (6) together constitute the range of Lin (3). This section will present\\ntwo distinct stability conditions based on the considerations outlined in (5) and (6).\\nBefore delving into the main findings, let us review some useful lemmas.\\n3\\n 1 \\n 2 \\n 3 \\n 4 \\n 5 \\n 6 \\n 7 \\n 8 \\n 9 \\n10 \\n11 \\n12 \\n13 \\n14 \\n15 \\n16 \\n17 \\n18 \\n19 \\n20 \\n21 \\n22 \\n23 \\n24 \\n25 \\n26 \\n27 \\n28 \\n29 \\n30 \\n31 \\n32 \\n33 \\n34 \\n35 \\n36 \\n37 \\n38 \\n39 \\n40 \\n41 \\n42 \\n43 \\n44 \\n45 \\n46 \\n47 \\n48 \\n49 \\n50 \\n51 \\n52 \\n53 \\n54 \\n55 \\n56 \\n57 \\n58 \\n59 \\n60 \\n61 \\n62 \\n63 \\n64 \\n65 '),\n",
              " Document(metadata={'source': '/content/CSSP-D-24-00691_reviewer_2.pdf', 'page': 4}, page_content='Lemma 1 (Liu and Michel, 1992; Dey and Kar, 2011b) The matrix G= [gmp]∈\\nRk×kis characterized as:\\ngij=kX\\nj=1,i̸=j(δij+ηij), i= 1,2, . . . , k, (7a)\\ngij=gji=L(δij−ηij),∀i, j= 1,2, . . . , k (i̸=j), (7b)\\nδij>0, ηij>0,∀i, j= 1,2, . . . , k (i̸=j), (7c)\\n−1≤L≤1. (8)\\nThen the following condition holds:\\nyT(n) (G+GT)y(n)−fT(y(n)) (G+GT)f(y(n))≥0, (9)\\nwhere f(y(n))is defined by (2)and(3). Given the condition k= 1, the matrix Gis\\nreduced to a scalar value.\\nLemma 2 (Kar, 2007; Dey and Kar, 2011a) Consider the characteristics of the\\nmatrix C= [cij]∈Rk×kas:\\ncii=kX\\nj=1,j̸=i(σij+µij), i= 1,2, . . . , k, (10a)\\ncij=L(σij−µij), i, j = 1,2, . . . , k (i̸=j), (10b)\\nµij>0, σij>0, i, j = 1,2, . . . , k (i̸=j), (10c)\\n0≤L≤1. (11)\\nGiven this, the following condition holds true\\nyT(n)C f(y(n)) +fT(y(n))CTy(n)−fT(y(n)) (C+CT)f(y(n))≥0,(12)\\nwhere f(y(n))is given by (2)and(5). When k= 1, the matrix Cis transformed to\\na scalar value.\\nLemma 3 (Dey and Kar, 2011a; Kar and Singh, 2000) Consider a positive definite\\nmatrix D=diag(D11, D22, . . . , D kk)∈Rk×kfor which the following condition holds\\ntrue for (2)and(6).\\nkX\\ni=12di[yi(k)−fi(yi(k))][−Lyi(k) +fi(yi(k))]\\n= (1 + L)yT(n)D f(y(n)) + (1 + L)fT(y(n))D y(n)−2fT(y(n))D f(y(n))\\n−2LyT(n)D y(n)≥0. (13)\\nIn reference with (2) and (5), the stability criterion for interfered DF (1)-(2) based on\\npassivity approach is explored.\\n4\\n 1 \\n 2 \\n 3 \\n 4 \\n 5 \\n 6 \\n 7 \\n 8 \\n 9 \\n10 \\n11 \\n12 \\n13 \\n14 \\n15 \\n16 \\n17 \\n18 \\n19 \\n20 \\n21 \\n22 \\n23 \\n24 \\n25 \\n26 \\n27 \\n28 \\n29 \\n30 \\n31 \\n32 \\n33 \\n34 \\n35 \\n36 \\n37 \\n38 \\n39 \\n40 \\n41 \\n42 \\n43 \\n44 \\n45 \\n46 \\n47 \\n48 \\n49 \\n50 \\n51 \\n52 \\n53 \\n54 \\n55 \\n56 \\n57 \\n58 \\n59 \\n60 \\n61 \\n62 \\n63 \\n64 \\n65 '),\n",
              " Document(metadata={'source': '/content/CSSP-D-24-00691_reviewer_2.pdf', 'page': 5}, page_content='Theorem 1 Suppose if there exist real matrices P=PT>0,S=ST>0and\\nscalars ϵ0>0,γ >0such that\\nϑ1=\\uf8ee\\n\\uf8f0AT(β+ϵ0I)A−P−S ATC AT(β+ϵaI)\\n∗ P−β−C−CTP+CT\\n∗ ∗ P+β+ (ϵ0+γ−1)I\\uf8f9\\n\\uf8fb<0,\\n(14)\\nwhere β=G+GT, and ϵa=ϵ0−0.5. The matrices G= [gij]>0andC= [cij]>0\\nare exemplified by (7)and(10), respectively. Then, the given nonlinear DF (1)-(2)\\nand(5)is said to be VSP from w(n)(external disturbance) and y(n)(output).\\nProof. Choose a quadratic Lyapunov function of the form\\nV(x(n)) =xT(n)Px(n). (15)\\nAlong the system trajectories defined in (1), the forward difference of (15) can be\\nobtained as,\\n∆V(x(n)) =V(x(n+ 1))−V(x(n))\\n=fT(y(n))Pf(y(n)) +fT(y(n))Pw(n) +wT(n)Pf(y(n))\\n+wT(n)Pw(n)−xT(n)Px(n). (16)\\nBy employing the conditions (9) and (12), we can express (16) as follows\\n∆V(x(n))≤fT(y(n))Pf(y(n)) +fT(y(n))Pw(n) +wT(n)Pf(y(n))\\n+wT(n)Pw(n)−xT(n)Px(n) +yT(n) (G+GT)y(n)\\n−fT(y(n)) (G+GT)f(y(n)) +yT(n)C f(y(n))\\n+fT(y(n))CTy(n)−fT(y(n)) (C+CT)f(y(n)). (17)\\nBy adding and subtracting the passivity condition wT(n)y(n)−ϵ0yT(n)y(n)−\\nγwT(n)w(n) to (17) yields to\\n∆V(x(n))≤fT(y(n))Pf(y(n)) +fT(y(n))Pw(n) +wT(n)Pf(y(n))\\n+wT(n)Pw(n)−xT(n)Px(n) +yT(n)(G+GT)y(n)\\n−fT(y(n))(G+GT)f(y(n)) +yT(n)C f(y(n)) +fT(y(n))CTy(n)\\n−fT(y(n)) (C+CT)f(y(n))\\n=φT\\n1(n)ϑ1φ1(n) +wT(n)y(n)−ϵ0yT(n)y(n)−γwT(n)w(n)\\n+xT(n)Sx(n), (18)\\nwhere φT\\n1(n) =\\x02\\nxT(n)fT(y(n))wT(n)\\x03\\n. Asϑ1<0, we get\\n∆V(x(n))<wT(n)y(n)−ϵ0yT(n)y(n)−γwT(n)w(n) +xT(n)Sx(n). (19)\\n5\\n 1 \\n 2 \\n 3 \\n 4 \\n 5 \\n 6 \\n 7 \\n 8 \\n 9 \\n10 \\n11 \\n12 \\n13 \\n14 \\n15 \\n16 \\n17 \\n18 \\n19 \\n20 \\n21 \\n22 \\n23 \\n24 \\n25 \\n26 \\n27 \\n28 \\n29 \\n30 \\n31 \\n32 \\n33 \\n34 \\n35 \\n36 \\n37 \\n38 \\n39 \\n40 \\n41 \\n42 \\n43 \\n44 \\n45 \\n46 \\n47 \\n48 \\n49 \\n50 \\n51 \\n52 \\n53 \\n54 \\n55 \\n56 \\n57 \\n58 \\n59 \\n60 \\n61 \\n62 \\n63 \\n64 \\n65 '),\n",
              " Document(metadata={'source': '/content/CSSP-D-24-00691_reviewer_2.pdf', 'page': 6}, page_content='Performing the summation on (19) from l= 0 to non both sides and rearranging the\\nresult gives,\\nnX\\nl=0wT(l)y(l)−ϵ0nX\\nl=0yT(l)y(l)−γnX\\nl=0wT(l)w(l) +ν≥V(x(n+ 1))−nX\\nl=0xT(l)Sx(l),\\n(20)\\nwhere V(x(n+ 1)) >0 and ν=V(x(0)). It is to be noted that Eq. (20) satisfies the\\nVSP condition (4), ensuring that the DF (1)-(2) and (5) exhibit VSP properties from\\nw(n) toy(n). This concludes the proof.\\nNow, let us discuss the asymptotic stability for the nonlinear DF (1)-(2) and (5)\\nthrough Corollary 1.\\nCorollary 1 The asymptotic stability for nonlinear DF (1)-(2)and (5)is assured\\nunder zero disturbance, if,\\nϑ1<0, (21)\\n−S+ϵ0ATA>0. (22)\\nProof. When w(n) =0, then (19) can be written as\\n∆V(x(n))<−ϵ0yT(n)y(n) +xT(n)Sx(n)\\n=−xT(n)[−S+ϵ0ATA]x(n)<0. (23)\\nThis implies lim n→∞x(n) =0. This condition guarantees that the nonlinear DF (1)-\\n(2) and (5) exhibits asymptotic stability when the external disturbance is nullified.\\nTherefore, Corollary 1 is proved.\\nRemark 1 In the context of saturation nonlinearity (for L= 1), the matrices G=\\n[gij]andC= [cij]in Theorem 1 are characterized as row diagonal dominant matrices.\\nBy substituting the matrix G=GT=δIin(9), one arrives at the Theorem 1 of\\n(Arockiaraj and Kokil, 2017). Further, it is also interesting to note that we can obtain\\nTheorem 1 of (Pulikonda and Kokil, 2020) as a special case. Thus, (Arockiaraj and\\nKokil, 2017; Pulikonda and Kokil, 2020) are derived as exceptional cases from proposed\\nTheorem 1.\\nRemark 2 The proposed LMI condition (14) is linear with respective to unknown\\nvariables P,S,δij,ηij,σij, and µij(i, j= 1,2, . . . , k (i̸=j)). Thus, it can be easily\\nsolved via MATLAB LMI toolbox (Boyd et al, 2016; Gahinet et al, 1995).\\nFor the system represented by (1)-(2) and (6), the stability criterion is discussed\\nthrough Theorem 2.\\nTheorem 2 Suppose if there exist real matrices P=PT>0,S=ST>0and\\nscalars ϵ0>0,γ >0such that\\nϑ2=\\uf8ee\\n\\uf8f0X11(1 +L)ATD AT(β−2LD+ϵaI)\\n∗P−β−2D P + (1 + L)D\\n∗ ∗ P+β−2LD+ (ϵ0+γ−1)I\\uf8f9\\n\\uf8fb<0, (24)\\n6\\n 1 \\n 2 \\n 3 \\n 4 \\n 5 \\n 6 \\n 7 \\n 8 \\n 9 \\n10 \\n11 \\n12 \\n13 \\n14 \\n15 \\n16 \\n17 \\n18 \\n19 \\n20 \\n21 \\n22 \\n23 \\n24 \\n25 \\n26 \\n27 \\n28 \\n29 \\n30 \\n31 \\n32 \\n33 \\n34 \\n35 \\n36 \\n37 \\n38 \\n39 \\n40 \\n41 \\n42 \\n43 \\n44 \\n45 \\n46 \\n47 \\n48 \\n49 \\n50 \\n51 \\n52 \\n53 \\n54 \\n55 \\n56 \\n57 \\n58 \\n59 \\n60 \\n61 \\n62 \\n63 \\n64 \\n65 '),\n",
              " Document(metadata={'source': '/content/CSSP-D-24-00691_reviewer_2.pdf', 'page': 7}, page_content='where X11=AT(β+ϵ0I−2LD)A−P−S,β=G+GT, and ϵa=ϵ0−0.5.\\nThen, the given nonlinear DF (1)-(2)and(6)is said to be VSP from w(n)(external\\ndisturbance) and y(n)(output).\\nProof. By employing Lemmas 1 and 3 with VSP condition wT(n)y(n)−ϵ0yT(n)y(n)−\\nγwT(n)w(n) in (16), we get,\\n∆V(x(n))≤fT(y(n))Pf(y(n)) +fT(y(n))Pw(n) +wT(n)Pf(y(n))\\n+wT(n)Pw(n)−xT(n)Px(n) +yT(n) (G+GT)y(n)\\n−fT(y(n)) (G+GT)f(y(n)) + (1 + L)yT(n)D f(y(n))\\n+ (1 + L)fT(y(n))D y(n)−2fT(y(n))D f(y(n))−2LyT(n)D y(n).\\n(25)\\nSimplification of (25) yields to,\\n∆V(x(n))≤fT(y(n))Pf(y(n)) +fT(y(n))Pw(n) +wT(n)Pf(y(n))\\n+wT(n)Pw(n)−xT(n)Px(n) +yT(n)(G+GT)y(n)\\n−fT(y(n))(G+GT)f(y(n)) + (1 + L)yT(n)D f(y(n))\\n+ (1 + L)fT(y(n))D y(n)−2fT(y(n))D f(y(n))−2LyT(n)D y(n)\\n=φT\\n2(n)ϑ2φ2(n) +wT(n)y(n)−ϵ0yT(n)y(n)−γwT(n)w(n)\\n+xT(n)Sx(n), (26)\\nwhere φT\\n2(n) =\\x02\\nxT(n)fT(y(n))wT(n)\\x03\\n. Since ϑ2<0, we obtain,\\n∆V(x(n))<wT(n)y(n)−ϵ0yT(n)y(n)−γwT(n)w(n) +xT(n)Sx(n). (27)\\nOne can deduce the following result by following the similar steps as outlined in\\nTheorem 1 from Eq. (19).\\nnX\\nl=0wT(l)y(l)−ϵ0nX\\nl=0yT(l)y(l)−γnX\\nl=0wT(l)w(l) +ν≥V(x(n+ 1))\\n−nX\\nl=0xT(l)Sx(l), (28)\\nwhere V(x(n+ 1)) >0 and ν=V(x(0)). Thus, the condition (28) assures the passive\\nbehaviour of nonlinear DF (1)-(2) and (6). This completes the proof of Theorem 2.\\nFollowing this, a suitable corollary is provided.\\nCorollary 2 The nonlinear DF (1)-(2)and(6)is asymptotically stable with w(n) =\\n0, if,\\nϑ2<0, (29)\\n−S+ϵ0ATA>0. (30)\\n7\\n 1 \\n 2 \\n 3 \\n 4 \\n 5 \\n 6 \\n 7 \\n 8 \\n 9 \\n10 \\n11 \\n12 \\n13 \\n14 \\n15 \\n16 \\n17 \\n18 \\n19 \\n20 \\n21 \\n22 \\n23 \\n24 \\n25 \\n26 \\n27 \\n28 \\n29 \\n30 \\n31 \\n32 \\n33 \\n34 \\n35 \\n36 \\n37 \\n38 \\n39 \\n40 \\n41 \\n42 \\n43 \\n44 \\n45 \\n46 \\n47 \\n48 \\n49 \\n50 \\n51 \\n52 \\n53 \\n54 \\n55 \\n56 \\n57 \\n58 \\n59 \\n60 \\n61 \\n62 \\n63 \\n64 \\n65 '),\n",
              " Document(metadata={'source': '/content/CSSP-D-24-00691_reviewer_2.pdf', 'page': 8}, page_content='Proof. The proof of Corollary 2 follows similar steps as in Corollary 1. This completes\\nthe proof.\\nRemark 3 Theorem 2 mainly emphasizes studying the nonlinearities that combine\\ntriangular and two’s complement when the parameter L=−1. In this scenario,\\nthe matrix G, defined in Lemma 1, can be simplified to a positive definite diagonal\\nmatrix. However, it is important to note that this simplification considers both two’s\\ncomplement and triangular nonlinearity as identical, resulting in a more restricted\\nunderstanding of triangular overflow.\\nSuppose we have a class of nonlinearities limited within the sector range [ L,1] i.e.,\\nfi(0) = 0,\\nLy2\\ni(n)≤fi(yi(n))yi(n)≤y2\\ni(n), i= 1,2, . . . , k, (31a)\\nwhere\\n−1≤L <0. (31b)\\nIn Eq. (31), the selection of L=−1\\n3andL=−1 is crucial for triangular nonlin-\\nearity and two’s complement nonlinearity, respectively. Despite this difference, the\\nrelationship stated in (13) still holds true for (31). When considering the nonlinearities\\ndescribed by (31), we can express (9) as\\nyT(n)ˆGy(n)−fT(y(n))ˆGf(y(n))≥0, (32)\\nwhere the matrix ˆGis defined as positive diagonal matrix.\\nLet us consider the following theorem for the nonlinear DF (1) and (31).\\nTheorem 3 If there exist real matrices P=PT>0,S=ST>0, diagonal matrices\\nˆG>0,D>0, and scalars ϵ0>0,γ >0, such that\\nϑ3=\\uf8ee\\n\\uf8f0X11(1 +L)ATD AT(ˆG−2LD+ϵaI)\\n∗P−ˆG−2D P + (1 + L)D\\n∗ ∗ P+ˆG−2LD+ (ϵ0+γ−1)I\\uf8f9\\n\\uf8fb<0 (33)\\nwhere X11=AT(ˆG+ϵ0I−2LD)A−P−S, and ϵa=ϵ0−0.5.\\nProof. By employing (13) and (32) along with VSP condition wT(n)y(n)−\\nϵ0yT(n)y(n)−γwT(n)w(n) in (16), the upper bound ∆ V(x(n)) can be obtained as,\\n∆V(x(n))≤fT(y(n))Pf(y(n)) +fT(y(n))Pw(n) +wT(n)Pf(y(n))\\n+wT(n)Pw(n)−xT(n)Px(n) +yT(n)ˆGy(n)−fT(y(n))ˆGf(y(n))\\n+ (1 + L)yT(n)Df(y(n)) + (1 + L)fT(y(n))Dy(n)−2LyT(n)D y(n)\\n−2fT(y(n))D f(y(n))\\n=φT\\n3(n)ϑ3φ3(n) +wT(n)y(n)−ϵ0yT(n)y(n)−γwT(n)w(n) +xT(n)Sx(n).\\n(34)\\n8\\n 1 \\n 2 \\n 3 \\n 4 \\n 5 \\n 6 \\n 7 \\n 8 \\n 9 \\n10 \\n11 \\n12 \\n13 \\n14 \\n15 \\n16 \\n17 \\n18 \\n19 \\n20 \\n21 \\n22 \\n23 \\n24 \\n25 \\n26 \\n27 \\n28 \\n29 \\n30 \\n31 \\n32 \\n33 \\n34 \\n35 \\n36 \\n37 \\n38 \\n39 \\n40 \\n41 \\n42 \\n43 \\n44 \\n45 \\n46 \\n47 \\n48 \\n49 \\n50 \\n51 \\n52 \\n53 \\n54 \\n55 \\n56 \\n57 \\n58 \\n59 \\n60 \\n61 \\n62 \\n63 \\n64 \\n65 '),\n",
              " Document(metadata={'source': '/content/CSSP-D-24-00691_reviewer_2.pdf', 'page': 9}, page_content='By following the similar steps of Theorem 1 from (19), one can obtain the passivity\\ncondition (4).\\nRemark 4 The choice of Limposes limitations on analyzing the triangular overflow\\nnonlinearity presented in Eqs. (2)and(3). As a result, it becomes crucial to select\\nL=−1\\n3in Eq. (31) instead of L=−1. Consequently, Theorem 3 provides more\\ncautious results in comparison to Theorem 2.\\nRemark 5 The procedure to obtain the unknown constraints of Theorems 1, 2 and 3\\nthrough minimization problem is elaborated via Algorithm 1.\\nAlgorithm 1\\nInput: A,L\\nOutput: P,S,G,ˆG,D,ϵ0,γ,δij,ηij,σij,µij\\nInitialization:\\n•Set the counter value s= 0\\n•Set the values of the matrix AandL\\nBegin loop:\\n•Increment the counter s=s+ 1\\n•Solve the minimization problem subjected to:\\nϑ1<0,ϑ2<0,ϑ3<0,P>0,S>0,G>0,D>0,\\nˆG>0,ϵ0,γ,δij,ηij,σij,µij.\\n•ifFeasible solution is obtained\\nExit the loop and Compute for decision variables\\nelse\\nGo to Initialization step\\nComputation of decision variables\\nEnd\\nRemark 6 The stability criteria presented in Corollaries 1 and 2 are dependent upon\\nthe specified upper and lower limits of the generalized nonlinear function f(y(n))as\\ndefined in Eq. (2). This highlights the significance of considering these bounds when\\nassessing stability. Compared to previous studies such as (Arockiaraj and Kokil, 2017;\\nPulikonda and Kokil, 2020), the proposed approach in this work offers a broader\\nrange of applicability. The results obtained in this study are also more generalized\\nthan those in (Arockiaraj and Kokil, 2017; Pulikonda and Kokil, 2020), which have\\nprimarily focused on analyzing saturation overflow nonlinearity. Consequently, the pro-\\nposed approach is more versatile as it can effectively address various types of overflow\\nnonlinearities.\\n9\\n 1 \\n 2 \\n 3 \\n 4 \\n 5 \\n 6 \\n 7 \\n 8 \\n 9 \\n10 \\n11 \\n12 \\n13 \\n14 \\n15 \\n16 \\n17 \\n18 \\n19 \\n20 \\n21 \\n22 \\n23 \\n24 \\n25 \\n26 \\n27 \\n28 \\n29 \\n30 \\n31 \\n32 \\n33 \\n34 \\n35 \\n36 \\n37 \\n38 \\n39 \\n40 \\n41 \\n42 \\n43 \\n44 \\n45 \\n46 \\n47 \\n48 \\n49 \\n50 \\n51 \\n52 \\n53 \\n54 \\n55 \\n56 \\n57 \\n58 \\n59 \\n60 \\n61 \\n62 \\n63 \\n64 \\n65 '),\n",
              " Document(metadata={'source': '/content/CSSP-D-24-00691_reviewer_2.pdf', 'page': 10}, page_content='4 Numerical Examples\\nSome illustrations demonstrating the practicality of the proposed methodology are\\npresented in order.\\nExample 1. The system parameters considered for nonlinear DF (1)-(2) for L=\\n−1 (two’s complement) is given as,\\nA=\\x14\\n0.56−0.72\\n0.3−0.45\\x15\\n,w(n) =\\uf8f1\\n\\uf8f4\\uf8f2\\n\\uf8f4\\uf8f3h\\n−0.1sin(n)−2.3cos(2n)iT\\n,0≤n≤50.\\nh\\n0 0iT\\n, otherwise .(35)\\nThe given example validates the proposed Theorem 2 for the provided unknown values.\\nP=\\x14\\n0.0851 −0.0418\\n−0.0418 0 .1188\\x15\\n,S=\\x14\\n0.1336 −0.1784\\n−0.1784 0 .2388\\x15\\n, ϵ0= 0.3398,\\nG=\\x14\\n0.0658 −0.0501\\n−0.0568 0 .0985\\x15\\n,D=\\x14\\n0.0198 0\\n0 0 .0423\\x15\\n, γ= 0.0299. (36)\\n-4-3-2-101234x1(n),x2(n)\\n0 20 40 60 80 100\\nnx1(n)\\nx2(n)\\nFig. 1 The trajectory states x1(n),x2(n) for Example 1\\nFigure 1 shows the trajectory paths of x1(n) and x2(n) assuming initial conditions\\nx(0) =\\x02\\n−1 0.45\\x03Tfor the DF (1), (2), and (6). The system is passive concerning\\nexternal disturbance and is exponentially stable when there is no disturbance. Figure\\n1 indicates that the state vectors trajectories are confined to the origin, and when\\nw(n) =0, the trajectories converge to the origin.\\nExample 2 . Let us consider a discrete gene regulatory network (GRN) in the\\npresence of exogenous disturbances (Zhang et al, 2019; Pulikonda et al, 2023) as\\nxm(n+ 1) = f(¯Axm(n) +Wf(xp(n))) +N1w(n), (37a)\\n10\\n 1 \\n 2 \\n 3 \\n 4 \\n 5 \\n 6 \\n 7 \\n 8 \\n 9 \\n10 \\n11 \\n12 \\n13 \\n14 \\n15 \\n16 \\n17 \\n18 \\n19 \\n20 \\n21 \\n22 \\n23 \\n24 \\n25 \\n26 \\n27 \\n28 \\n29 \\n30 \\n31 \\n32 \\n33 \\n34 \\n35 \\n36 \\n37 \\n38 \\n39 \\n40 \\n41 \\n42 \\n43 \\n44 \\n45 \\n46 \\n47 \\n48 \\n49 \\n50 \\n51 \\n52 \\n53 \\n54 \\n55 \\n56 \\n57 \\n58 \\n59 \\n60 \\n61 \\n62 \\n63 \\n64 \\n65 '),\n",
              " Document(metadata={'source': '/content/CSSP-D-24-00691_reviewer_2.pdf', 'page': 11}, page_content='qm(n) =H1xm(n) +E1w(n), (37b)\\nxp(n+ 1) = f(¯Axp(n) +Kxm(n)) +N2w(n), (38a)\\nqp(n) =H2xp(n) +E2w(n), (38b)\\nwhere qm(n) and qp(n) are the expression levels of mRNA and protein. The constant\\nmatrices N1,N2,E1,E2are associated with external disturbances with appropriate\\ndimensions. The nonlinear DF (1)-(2) and (5) can be represented as (37) by assuming\\nthe parameters A=H1andI=N1=E1, respectively.\\n-0.8-0.6-0.4-0.200.20.40.60.8xm1(n),xm2(n)\\n0 20 40 60 80 100\\nnxm1(n)\\nxm2(n)\\nFig. 2 The trajectory states xm1(n),xm2(n) for Example 2\\nConsider system parameter\\nA=\\x14\\n0.8 0\\n0 0.57\\x15\\n, (39)\\nwith an external input w(n) =\\x02\\n−0.1sin(n)−0.4cos(n)\\x03Tfor 0≤n≤50 and w(n) =\\x02\\n0 0\\x03Tforn > 50. For the given example, Corollary 1 of (Pulikonda and Kokil,\\n2020) demonstrates results that are not applicable in the case of saturation overflow\\nnonlinearity with a bound of L= 1. However, our proposed Corollary 1 provides a\\ncondition that is shown to be feasible for the following unknown values:\\nP=\\x14\\n0.1969 0\\n0 0 .1646\\x15\\n,S=\\x14\\n0.0698 0\\n0 0 .0276\\x15\\n, ϵ0= 0.1342,\\nG=\\x14\\n0.0674 0\\n0 0 .0963\\x15\\n,D=\\x14\\n0.0198 0\\n0 0 .0423\\x15\\n, γ= 0.0475. (40)\\n11\\n 1 \\n 2 \\n 3 \\n 4 \\n 5 \\n 6 \\n 7 \\n 8 \\n 9 \\n10 \\n11 \\n12 \\n13 \\n14 \\n15 \\n16 \\n17 \\n18 \\n19 \\n20 \\n21 \\n22 \\n23 \\n24 \\n25 \\n26 \\n27 \\n28 \\n29 \\n30 \\n31 \\n32 \\n33 \\n34 \\n35 \\n36 \\n37 \\n38 \\n39 \\n40 \\n41 \\n42 \\n43 \\n44 \\n45 \\n46 \\n47 \\n48 \\n49 \\n50 \\n51 \\n52 \\n53 \\n54 \\n55 \\n56 \\n57 \\n58 \\n59 \\n60 \\n61 \\n62 \\n63 \\n64 \\n65 '),\n",
              " Document(metadata={'source': '/content/CSSP-D-24-00691_reviewer_2.pdf', 'page': 12}, page_content='Similarly, to represent (1), (2) and (5) as (38) we assume A=H2,I=E2=N2.\\nConsider\\nA=\\x14\\n−0.2 0\\n0−0.21\\x15\\n, (41)\\nwith external input w(n) =\\x02\\n−2sin(n)−4cos(n)\\x03Tfor 0≤n < 50 and w(n) =\\x02\\n0 0\\x03Tforn≥50. For the given unknown parameter the proposed Corollary 1 is found\\nfeasible for the following unknown values:\\nP=\\x14\\n0.1063 0\\n0 0 .1075\\x15\\n,S=\\x14\\n0.0012 0\\n0 0 .0014\\x15\\n, ϵ0= 0.0963,\\nG=\\x14\\n0.1708 0\\n0 0 .1692\\x15\\n,D=\\x14\\n0.4712 0\\n0 0 .4672\\x15\\n, γ= 0.0542. (42)\\n-0.4-0.200.20.40.6xp1(n),xp2(n)\\n0 20 40 60 80 100\\nnxp1(n)\\nxp2(n)\\nFig. 3 The trajectory states xp1(n),xp2(n) for Example 2\\nFigures 2 and 3 illustrate the state trajectories of mRNA ( xm(n)) and pro-\\ntein (xp(n)) under different initial conditions of xm(0) =\\x02\\n−0.4 0.5\\x03Tandxp(0) =\\x02\\n−1.4−1.8\\x03T. These figures provide insights into the passive behavior of the nonlin-\\near DF described by (1), (2) and (5) in the presence of external disturbances. Notably,\\nwhenw(n) =0, the state vectors converge towards the origin, affirming the asymptotic\\nstability of the presented DF.\\n5 Conclusions\\nAn enhanced stability criterion based on the VSP approach has been introduced for\\nthe analysis of stability in nonlinear DF (1)-(2) prone to various types of overflow non-\\nlinearities. The proposed Corollaries 1 and 2 ensure passive behavior and asymptotic\\n12\\n 1 \\n 2 \\n 3 \\n 4 \\n 5 \\n 6 \\n 7 \\n 8 \\n 9 \\n10 \\n11 \\n12 \\n13 \\n14 \\n15 \\n16 \\n17 \\n18 \\n19 \\n20 \\n21 \\n22 \\n23 \\n24 \\n25 \\n26 \\n27 \\n28 \\n29 \\n30 \\n31 \\n32 \\n33 \\n34 \\n35 \\n36 \\n37 \\n38 \\n39 \\n40 \\n41 \\n42 \\n43 \\n44 \\n45 \\n46 \\n47 \\n48 \\n49 \\n50 \\n51 \\n52 \\n53 \\n54 \\n55 \\n56 \\n57 \\n58 \\n59 \\n60 \\n61 \\n62 \\n63 \\n64 \\n65 '),\n",
              " Document(metadata={'source': '/content/CSSP-D-24-00691_reviewer_2.pdf', 'page': 13}, page_content='stability (when confronted with external disturbances) of nonlinear DF (1)-(2). The\\nderived conditions are constructed in LMI framework for easy tractability. A numeri-\\ncal example has been demonstrated to show the applicability of the proposed criteria.\\nFurther, it is worth highlighting that the proposed criteria have the potential to be\\nextended to various other domains such as multi-dimensional (m-D) systems (Srivas-\\ntava et al, 2024), uncertain systems (Agarwal and Kar, 2022), time-delay systems\\n(Dong et al, 2021), and so on.\\nFunding. This work was supported by Department of Atomic Energy, Government\\nof India under grant No. 02011/6/2019 NBHM(R.P)/R&D II/1615 and Science and\\nEngineering Research Board, Department of Science and Technology, Government of\\nIndia under grant No. MTR/2021/000656.\\nAvailability of data and materials. Not applicable\\nDeclarations\\nConflict of interest. The authors declare that there is no conflict of interest.\\nCode availability. Not applicable\\nReferences\\nAbd El-Latif AA, Amin M, Iliyasu AM (2020) Quantum-inspired cascaded discrete-\\ntime quantum walks with induced chaotic dynamics and cryptographic applications.\\nSci Rep 10(1):1–16\\nAgarwal N, Kar H (2022) Robust stability criterion for state-delayed discrete-time\\nsystems combined with a saturation operator on the state-space. Circuits Syst Signal\\nProcess 41(10):5392–5413\\nAmjad MU, Rehan M, Tufail M, et al (2017) Stability analysis of nonlinear digital sys-\\ntems under hardware overflow constraint for dealing with finite word-length effects\\nof digital technologies. Signal Process 140:139–148\\nArockiaraj SX, Kokil P (2017) LMI based passivity analysis of digital filters. In: Proc.\\nInt. Conf. Wirel Commun. Signal Process. Netw (WiSPNET), pp 1129–1132\\nArockiaraj SX, Kokil P, Kar H (2017) Passivity based stability condition for interfered\\ndigital filters. Indones J Electr Eng Comput Sci 6(2):431–437\\nBoyd S, Ghaoui JE, Feron E, et al (2016) Linear Matrix Inequalities in System and\\nControl Theory. Society for Industrial and Applied Mathematics (SIAM)\\nClassen TACM, Mecklenbrauker WFG, Peek JBH (1976) Effects of quantization\\nand overflow in recursive digital filters. IEEE Trans Acoust Speech Signal Process\\n24(6):517–529\\n13\\n 1 \\n 2 \\n 3 \\n 4 \\n 5 \\n 6 \\n 7 \\n 8 \\n 9 \\n10 \\n11 \\n12 \\n13 \\n14 \\n15 \\n16 \\n17 \\n18 \\n19 \\n20 \\n21 \\n22 \\n23 \\n24 \\n25 \\n26 \\n27 \\n28 \\n29 \\n30 \\n31 \\n32 \\n33 \\n34 \\n35 \\n36 \\n37 \\n38 \\n39 \\n40 \\n41 \\n42 \\n43 \\n44 \\n45 \\n46 \\n47 \\n48 \\n49 \\n50 \\n51 \\n52 \\n53 \\n54 \\n55 \\n56 \\n57 \\n58 \\n59 \\n60 \\n61 \\n62 \\n63 \\n64 \\n65 '),\n",
              " Document(metadata={'source': '/content/CSSP-D-24-00691_reviewer_2.pdf', 'page': 14}, page_content='Dey A, Kar H (2011a) LMI-based criterion for the robust stability of 2D discrete\\nstate-delayed systems using generalized overflow nonlinearities. J Control Sci Eng\\n271515:1–12\\nDey A, Kar H (2011b) Robust stability of 2-D discrete systems employing generalized\\noverflow nonlinearities: an LMI approach. Digit Signal Process 21(2):262–269\\nDong Y, Hao J, Mei S, et al (2021) Observer design for one-sided lipschitz uncertain\\ndescriptor systems with time-varying delay and nonlinear uncertainties. Circuits\\nSyst Signal Process 40(10):4779–4798\\nGahinet P, Nemirovski A, Laub A, et al (1995) LMI Control Toolbox. The Mathworks\\nInc, Natick, MA.\\nKar H (2007) An LMI based criterion for the nonexistence of overflow oscillations\\nin fixed-point state-space digital filters using saturation arithmetic. Digit Signal\\nProcess 17(3):685–689\\nKar H, Singh V (2000) Stability analysis of 2-D state-space digital filters with overflow\\nnonlinearities. IEEE Trans Circuits Syst I Fundam Theory Appl 47(4):598–601\\nKrishna Rao Kandanvli V, Kar H (2008) Robust stability of discrete-time state-\\ndelayed systems employing generalized overflow nonlinearities. Nonlinear Anal\\nTheory Methods Appl 69(9):2780–2787\\nLiu D, Michel A (1992) Asymptotic stability of discrete-time systems with saturation\\nnonlinearities with applications to digital filters. IEEE Trans Circuits Syst I Fundam\\nTheory Appl 39(10):798–807\\nNise NS (2014) Control System Engineering. John Wiley & Sons, Inc., NJ, USA\\nPulikonda M, Kokil P (2020) An enhanced stability criterion for strict passive analysis\\nof digital filters. In: Proc. IEEE India Council. Int. Conf. (INDICON), pp 1–5\\nPulikonda M, Parthipan CG, Kokil P (2023) A linear matrix inequality-based criterion\\nfor realizing externally interfered discrete system using saturation arithmetic. Trans\\nInst Meas Control 45(5):921–930\\nSrivastava A, Negi R, Kar H (2024) Guaranteed cost control for 2-D uncertain discrete\\nstate-delayed systems in roesser model employing actuator saturation. Circuits Syst\\nSignal Process 43(1):74–102\\nZhang X, Wang Y, Wu L (2019) Analysis and design of delayed genetic regulatory\\nnetworks. Springer\\n14\\n 1 \\n 2 \\n 3 \\n 4 \\n 5 \\n 6 \\n 7 \\n 8 \\n 9 \\n10 \\n11 \\n12 \\n13 \\n14 \\n15 \\n16 \\n17 \\n18 \\n19 \\n20 \\n21 \\n22 \\n23 \\n24 \\n25 \\n26 \\n27 \\n28 \\n29 \\n30 \\n31 \\n32 \\n33 \\n34 \\n35 \\n36 \\n37 \\n38 \\n39 \\n40 \\n41 \\n42 \\n43 \\n44 \\n45 \\n46 \\n47 \\n48 \\n49 \\n50 \\n51 \\n52 \\n53 \\n54 \\n55 \\n56 \\n57 \\n58 \\n59 \\n60 \\n61 \\n62 \\n63 \\n64 \\n65 '),\n",
              " Document(metadata={'source': '/content/CSSP-D-24-00691_reviewer_2.pdf', 'page': 15}, page_content='  Cover Letter\\nClick here to access/download \\nElectronic Supplementary Material \\nCover Letter.pdf ')]"
            ]
          },
          "metadata": {},
          "execution_count": 56
        }
      ]
    },
    {
      "cell_type": "code",
      "source": [
        "len(docs)"
      ],
      "metadata": {
        "colab": {
          "base_uri": "https://localhost:8080/"
        },
        "id": "6DNTiAvgvNYC",
        "outputId": "e77d50a6-795d-4c06-9a36-839713924c1c"
      },
      "execution_count": 57,
      "outputs": [
        {
          "output_type": "execute_result",
          "data": {
            "text/plain": [
              "16"
            ]
          },
          "metadata": {},
          "execution_count": 57
        }
      ]
    },
    {
      "cell_type": "code",
      "source": [
        "retriever.add_documents(docs)"
      ],
      "metadata": {
        "colab": {
          "base_uri": "https://localhost:8080/"
        },
        "id": "Ux831sq2pq3C",
        "outputId": "ad89a4e0-3c65-4e96-95df-a5698f3c55c6"
      },
      "execution_count": 73,
      "outputs": [
        {
          "output_type": "execute_result",
          "data": {
            "text/plain": [
              "['38ca3334-140f-4569-b7dc-dfbdc7966f2f',\n",
              " 'fdc611fb-9944-412f-a37a-49719d017397',\n",
              " '5ba2780a-29e0-4407-aeb9-04da991ac45d',\n",
              " '218280d0-d49e-47c3-9aae-ddace648b710',\n",
              " 'a8e73f8a-13b9-4ac9-a68b-604889b4bc2a',\n",
              " 'b79546ac-8f3c-4849-881c-7ccadfa91ce3',\n",
              " '9077749f-7043-4b3c-98de-d7fd1e8cfa24',\n",
              " '1884e9dd-0197-49ee-9e9f-e7fd08b48820',\n",
              " '202b5f2e-6723-4ecb-9cf9-99f4605dc137',\n",
              " 'a1d8872e-c66f-43ea-8866-c4d84c066ff8',\n",
              " '70f0a112-b1f7-488f-95db-0dcd51afb6ab',\n",
              " '1cef5cff-162f-4bf0-b0d5-ef028dbead56',\n",
              " 'd124445c-f5ba-4583-859f-75753f3fc19a',\n",
              " '16ac7733-19e1-4ff7-937f-243fa14e5d93',\n",
              " '13e31de7-a8eb-47c5-b708-d147ae8218be',\n",
              " 'b6bcaf2b-1957-4314-917c-6655b3cb8bc7']"
            ]
          },
          "metadata": {},
          "execution_count": 73
        }
      ]
    },
    {
      "cell_type": "code",
      "source": [
        "QA1=retriever.invoke(\"what is digital filters?\",)\n"
      ],
      "metadata": {
        "id": "FP-9FpzQREWL"
      },
      "execution_count": 96,
      "outputs": []
    },
    {
      "cell_type": "code",
      "source": [
        "print(QA1)\n",
        "print(QA1[1])"
      ],
      "metadata": {
        "colab": {
          "base_uri": "https://localhost:8080/"
        },
        "id": "bdwVbSNkRQDN",
        "outputId": "53bcb867-7fcb-4f72-8c03-edeedfccfef1"
      },
      "execution_count": 97,
      "outputs": [
        {
          "output_type": "stream",
          "name": "stdout",
          "text": [
            "[Document(page_content='Circuits, Systems, and Signal Processing  \\nCriteria to Mitigate Overflow Oscillations in\\xa0Externally Interfered Digital Filters \\n--Manuscript Draft-- \\n \\nManuscript Number: CSSP-D-24-00691\\nFull Title: Criteria to Mitigate Overflow Oscillations in\\xa0Externally Interfered Digital Filters\\nArticle Type: Original Research\\nKeywords: Asymptotic stability;  Digital filters;  External disturbance;  Generalized overflow\\nnonlinearities;  Very strict passivity\\nAbstract: This brief proposes novel asymptotic stability criteria for nonlinear digital filters\\nsubjected to external disturbances and overflow nonlinearities. The proposed\\ncriteria, formulated within the linear matrix inequality framework, guarantees\\nthe passive behavior of the nonlinear digital filter based on its storage function.\\nThese conditions are established via a very strict passivity approach, making\\nthem applicable to various nonlinearity types, including zeroing, saturation, two’s\\ncomplement, and triangular. To validate the theoretical findings, appropriate\\nnumerical examples are demonstrated.\\nPowered by Editorial Manager® and ProduXion Manager® from Aries Systems Corporation'), Document(page_content='Circuits, Systems, and Signal Processing  \\nCriteria to Mitigate Overflow Oscillations in\\xa0Externally Interfered Digital Filters \\n--Manuscript Draft-- \\n \\nManuscript Number: CSSP-D-24-00691\\nFull Title: Criteria to Mitigate Overflow Oscillations in\\xa0Externally Interfered Digital Filters\\nArticle Type: Original Research\\nKeywords: Asymptotic stability;  Digital filters;  External disturbance;  Generalized overflow\\nnonlinearities;  Very strict passivity\\nAbstract: This brief proposes novel asymptotic stability criteria for nonlinear digital filters\\nsubjected to external disturbances and overflow nonlinearities. The proposed\\ncriteria, formulated within the linear matrix inequality framework, guarantees\\nthe passive behavior of the nonlinear digital filter based on its storage function.\\nThese conditions are established via a very strict passivity approach, making\\nthem applicable to various nonlinearity types, including zeroing, saturation, two’s\\ncomplement, and triangular. To validate the theoretical findings, appropriate\\nnumerical examples are demonstrated.\\nPowered by Editorial Manager® and ProduXion Manager® from Aries Systems Corporation'), Document(page_content='Criteria to Mitigate Overflow Oscillations in\\nExternally Interfered Digital Filters\\nMounika Pulikonda and Priyanka Kokil\\nAdvanced Signal and Image Processing (ASIP) Lab, Department of\\nElectronics and Communication Engineering, Indian Institute of\\nInformation Technology, Design and Manufacturing, Kancheepuram,\\nChennai, 600127, India.\\n*Corresponding author(s). E-mail(s): priyanka@iiitdm.ac.in\\nContributing authors: ec21d0001@iiitdm.ac.in\\nAbstract\\nThis brief proposes novel asymptotic stability criteria for nonlinear digital fil-\\nters subjected to external disturbances and overflow nonlinearities. The proposed\\ncriteria, formulated within the linear matrix inequality framework, guarantees\\nthe passive behavior of the nonlinear digital filter based on its storage function.\\nThese conditions are established via a very strict passivity approach, making\\nthem applicable to various nonlinearity types, including zeroing, saturation, two’s\\ncomplement, and triangular. To validate the theoretical findings, appropriate\\nnumerical examples are demonstrated.\\nKeywords: Asymptotic stability, Digital filters, External disturbance, Generalized\\noverflow nonlinearities, Very strict passivity\\n1 Introduction\\nDigital filters have extensively found applications in tracking systems, wireless com-\\nmunication, signal processing, navigation systems, and other domains (Classen et al,\\n1976). Nonlinearities, such as quantization and overflow, are often introduced in fixed-\\npoint digital filters (DF) implemented on processors with finite wordlength. The\\npresence of these nonlinearities can cause instability in the DF. Numerous studies have\\ndiscussed stability issues with DF vulnerable to overflow oscillations and external dis-\\nturbances (Liu and Michel, 1992; Krishna Rao Kandanvli and Kar, 2008; Arockiaraj\\n1Manuscript\\n Click here to access/download;Manuscript;Manuscript.pdf\\n 1 \\n 2 \\n 3 \\n 4 \\n 5 \\n 6 \\n 7 \\n 8 \\n 9 \\n10 \\n11 \\n12 \\n13 \\n14 \\n15 \\n16 \\n17 \\n18 \\n19 \\n20 \\n21 \\n22 \\n23 \\n24 \\n25 \\n26 \\n27 \\n28 \\n29 \\n30 \\n31 \\n32 \\n33 \\n34 \\n35 \\n36 \\n37 \\n38 \\n39 \\n40 \\n41 \\n42 \\n43 \\n44 \\n45 \\n46 \\n47 \\n48 \\n49 \\n50 \\n51 \\n52 \\n53 \\n54 \\n55 \\n56 \\n57 \\n58 \\n59 \\n60 \\n61 \\n62 \\n63 \\n64 \\n65 '), Document(page_content='Criteria to Mitigate Overflow Oscillations in\\nExternally Interfered Digital Filters\\nMounika Pulikonda and Priyanka Kokil\\nAdvanced Signal and Image Processing (ASIP) Lab, Department of\\nElectronics and Communication Engineering, Indian Institute of\\nInformation Technology, Design and Manufacturing, Kancheepuram,\\nChennai, 600127, India.\\n*Corresponding author(s). E-mail(s): priyanka@iiitdm.ac.in\\nContributing authors: ec21d0001@iiitdm.ac.in\\nAbstract\\nThis brief proposes novel asymptotic stability criteria for nonlinear digital fil-\\nters subjected to external disturbances and overflow nonlinearities. The proposed\\ncriteria, formulated within the linear matrix inequality framework, guarantees\\nthe passive behavior of the nonlinear digital filter based on its storage function.\\nThese conditions are established via a very strict passivity approach, making\\nthem applicable to various nonlinearity types, including zeroing, saturation, two’s\\ncomplement, and triangular. To validate the theoretical findings, appropriate\\nnumerical examples are demonstrated.\\nKeywords: Asymptotic stability, Digital filters, External disturbance, Generalized\\noverflow nonlinearities, Very strict passivity\\n1 Introduction\\nDigital filters have extensively found applications in tracking systems, wireless com-\\nmunication, signal processing, navigation systems, and other domains (Classen et al,\\n1976). Nonlinearities, such as quantization and overflow, are often introduced in fixed-\\npoint digital filters (DF) implemented on processors with finite wordlength. The\\npresence of these nonlinearities can cause instability in the DF. Numerous studies have\\ndiscussed stability issues with DF vulnerable to overflow oscillations and external dis-\\nturbances (Liu and Michel, 1992; Krishna Rao Kandanvli and Kar, 2008; Arockiaraj\\n1Manuscript\\n Click here to access/download;Manuscript;Manuscript.pdf\\n 1 \\n 2 \\n 3 \\n 4 \\n 5 \\n 6 \\n 7 \\n 8 \\n 9 \\n10 \\n11 \\n12 \\n13 \\n14 \\n15 \\n16 \\n17 \\n18 \\n19 \\n20 \\n21 \\n22 \\n23 \\n24 \\n25 \\n26 \\n27 \\n28 \\n29 \\n30 \\n31 \\n32 \\n33 \\n34 \\n35 \\n36 \\n37 \\n38 \\n39 \\n40 \\n41 \\n42 \\n43 \\n44 \\n45 \\n46 \\n47 \\n48 \\n49 \\n50 \\n51 \\n52 \\n53 \\n54 \\n55 \\n56 \\n57 \\n58 \\n59 \\n60 \\n61 \\n62 \\n63 \\n64 \\n65 ')]\n",
            "page_content='Circuits, Systems, and Signal Processing  \n",
            "Criteria to Mitigate Overflow Oscillations in Externally Interfered Digital Filters \n",
            "--Manuscript Draft-- \n",
            " \n",
            "Manuscript Number: CSSP-D-24-00691\n",
            "Full Title: Criteria to Mitigate Overflow Oscillations in Externally Interfered Digital Filters\n",
            "Article Type: Original Research\n",
            "Keywords: Asymptotic stability;  Digital filters;  External disturbance;  Generalized overflow\n",
            "nonlinearities;  Very strict passivity\n",
            "Abstract: This brief proposes novel asymptotic stability criteria for nonlinear digital filters\n",
            "subjected to external disturbances and overflow nonlinearities. The proposed\n",
            "criteria, formulated within the linear matrix inequality framework, guarantees\n",
            "the passive behavior of the nonlinear digital filter based on its storage function.\n",
            "These conditions are established via a very strict passivity approach, making\n",
            "them applicable to various nonlinearity types, including zeroing, saturation, two’s\n",
            "complement, and triangular. To validate the theoretical findings, appropriate\n",
            "numerical examples are demonstrated.\n",
            "Powered by Editorial Manager® and ProduXion Manager® from Aries Systems Corporation'\n"
          ]
        }
      ]
    },
    {
      "cell_type": "code",
      "source": [
        "retriever.invoke(\n",
        "    \"what is RAG token?\",\n",
        "    score=True\n",
        ")"
      ],
      "metadata": {
        "colab": {
          "base_uri": "https://localhost:8080/"
        },
        "id": "WHdda33buBrS",
        "outputId": "781dc630-3673-40a6-e4d8-58220652cc11"
      },
      "execution_count": 98,
      "outputs": [
        {
          "output_type": "execute_result",
          "data": {
            "text/plain": [
              "[Document(metadata={'_additional': {'explainScore': '\\nHybrid (Result Set vector,hybridVector) Document b6bcaf2b-1957-4314-917c-6655b3cb8bc7: original score 0.45863342, normalized score: 0.5', 'score': '0.5'}}, page_content='  Cover Letter\\nClick here to access/download \\nElectronic Supplementary Material \\nCover Letter.pdf '),\n",
              " Document(metadata={'_additional': {'explainScore': '\\nHybrid (Result Set vector,hybridVector) Document d7681a52-de5b-4d9f-a72f-542c8c5d7797: original score 0.45863342, normalized score: 0.5', 'score': '0.5'}}, page_content='  Cover Letter\\nClick here to access/download \\nElectronic Supplementary Material \\nCover Letter.pdf '),\n",
              " Document(metadata={'_additional': {'explainScore': '\\nHybrid (Result Set vector,hybridVector) Document 5f64db22-785a-45f2-83c6-d81e0f78e0e9: original score 0.25414497, normalized score: 0.28060973', 'score': '0.28060973'}}, page_content='Theorem 1 Suppose if there exist real matrices P=PT>0,S=ST>0and\\nscalars ϵ0>0,γ >0such that\\nϑ1=\\uf8ee\\n\\uf8f0AT(β+ϵ0I)A−P−S ATC AT(β+ϵaI)\\n∗ P−β−C−CTP+CT\\n∗ ∗ P+β+ (ϵ0+γ−1)I\\uf8f9\\n\\uf8fb<0,\\n(14)\\nwhere β=G+GT, and ϵa=ϵ0−0.5. The matrices G= [gij]>0andC= [cij]>0\\nare exemplified by (7)and(10), respectively. Then, the given nonlinear DF (1)-(2)\\nand(5)is said to be VSP from w(n)(external disturbance) and y(n)(output).\\nProof. Choose a quadratic Lyapunov function of the form\\nV(x(n)) =xT(n)Px(n). (15)\\nAlong the system trajectories defined in (1), the forward difference of (15) can be\\nobtained as,\\n∆V(x(n)) =V(x(n+ 1))−V(x(n))\\n=fT(y(n))Pf(y(n)) +fT(y(n))Pw(n) +wT(n)Pf(y(n))\\n+wT(n)Pw(n)−xT(n)Px(n). (16)\\nBy employing the conditions (9) and (12), we can express (16) as follows\\n∆V(x(n))≤fT(y(n))Pf(y(n)) +fT(y(n))Pw(n) +wT(n)Pf(y(n))\\n+wT(n)Pw(n)−xT(n)Px(n) +yT(n) (G+GT)y(n)\\n−fT(y(n)) (G+GT)f(y(n)) +yT(n)C f(y(n))\\n+fT(y(n))CTy(n)−fT(y(n)) (C+CT)f(y(n)). (17)\\nBy adding and subtracting the passivity condition wT(n)y(n)−ϵ0yT(n)y(n)−\\nγwT(n)w(n) to (17) yields to\\n∆V(x(n))≤fT(y(n))Pf(y(n)) +fT(y(n))Pw(n) +wT(n)Pf(y(n))\\n+wT(n)Pw(n)−xT(n)Px(n) +yT(n)(G+GT)y(n)\\n−fT(y(n))(G+GT)f(y(n)) +yT(n)C f(y(n)) +fT(y(n))CTy(n)\\n−fT(y(n)) (C+CT)f(y(n))\\n=φT\\n1(n)ϑ1φ1(n) +wT(n)y(n)−ϵ0yT(n)y(n)−γwT(n)w(n)\\n+xT(n)Sx(n), (18)\\nwhere φT\\n1(n) =\\x02\\nxT(n)fT(y(n))wT(n)\\x03\\n. Asϑ1<0, we get\\n∆V(x(n))<wT(n)y(n)−ϵ0yT(n)y(n)−γwT(n)w(n) +xT(n)Sx(n). (19)\\n5\\n 1 \\n 2 \\n 3 \\n 4 \\n 5 \\n 6 \\n 7 \\n 8 \\n 9 \\n10 \\n11 \\n12 \\n13 \\n14 \\n15 \\n16 \\n17 \\n18 \\n19 \\n20 \\n21 \\n22 \\n23 \\n24 \\n25 \\n26 \\n27 \\n28 \\n29 \\n30 \\n31 \\n32 \\n33 \\n34 \\n35 \\n36 \\n37 \\n38 \\n39 \\n40 \\n41 \\n42 \\n43 \\n44 \\n45 \\n46 \\n47 \\n48 \\n49 \\n50 \\n51 \\n52 \\n53 \\n54 \\n55 \\n56 \\n57 \\n58 \\n59 \\n60 \\n61 \\n62 \\n63 \\n64 \\n65 '),\n",
              " Document(metadata={'_additional': {'explainScore': '\\nHybrid (Result Set vector,hybridVector) Document b79546ac-8f3c-4849-881c-7ccadfa91ce3: original score 0.25414497, normalized score: 0.28060973', 'score': '0.28060973'}}, page_content='Theorem 1 Suppose if there exist real matrices P=PT>0,S=ST>0and\\nscalars ϵ0>0,γ >0such that\\nϑ1=\\uf8ee\\n\\uf8f0AT(β+ϵ0I)A−P−S ATC AT(β+ϵaI)\\n∗ P−β−C−CTP+CT\\n∗ ∗ P+β+ (ϵ0+γ−1)I\\uf8f9\\n\\uf8fb<0,\\n(14)\\nwhere β=G+GT, and ϵa=ϵ0−0.5. The matrices G= [gij]>0andC= [cij]>0\\nare exemplified by (7)and(10), respectively. Then, the given nonlinear DF (1)-(2)\\nand(5)is said to be VSP from w(n)(external disturbance) and y(n)(output).\\nProof. Choose a quadratic Lyapunov function of the form\\nV(x(n)) =xT(n)Px(n). (15)\\nAlong the system trajectories defined in (1), the forward difference of (15) can be\\nobtained as,\\n∆V(x(n)) =V(x(n+ 1))−V(x(n))\\n=fT(y(n))Pf(y(n)) +fT(y(n))Pw(n) +wT(n)Pf(y(n))\\n+wT(n)Pw(n)−xT(n)Px(n). (16)\\nBy employing the conditions (9) and (12), we can express (16) as follows\\n∆V(x(n))≤fT(y(n))Pf(y(n)) +fT(y(n))Pw(n) +wT(n)Pf(y(n))\\n+wT(n)Pw(n)−xT(n)Px(n) +yT(n) (G+GT)y(n)\\n−fT(y(n)) (G+GT)f(y(n)) +yT(n)C f(y(n))\\n+fT(y(n))CTy(n)−fT(y(n)) (C+CT)f(y(n)). (17)\\nBy adding and subtracting the passivity condition wT(n)y(n)−ϵ0yT(n)y(n)−\\nγwT(n)w(n) to (17) yields to\\n∆V(x(n))≤fT(y(n))Pf(y(n)) +fT(y(n))Pw(n) +wT(n)Pf(y(n))\\n+wT(n)Pw(n)−xT(n)Px(n) +yT(n)(G+GT)y(n)\\n−fT(y(n))(G+GT)f(y(n)) +yT(n)C f(y(n)) +fT(y(n))CTy(n)\\n−fT(y(n)) (C+CT)f(y(n))\\n=φT\\n1(n)ϑ1φ1(n) +wT(n)y(n)−ϵ0yT(n)y(n)−γwT(n)w(n)\\n+xT(n)Sx(n), (18)\\nwhere φT\\n1(n) =\\x02\\nxT(n)fT(y(n))wT(n)\\x03\\n. Asϑ1<0, we get\\n∆V(x(n))<wT(n)y(n)−ϵ0yT(n)y(n)−γwT(n)w(n) +xT(n)Sx(n). (19)\\n5\\n 1 \\n 2 \\n 3 \\n 4 \\n 5 \\n 6 \\n 7 \\n 8 \\n 9 \\n10 \\n11 \\n12 \\n13 \\n14 \\n15 \\n16 \\n17 \\n18 \\n19 \\n20 \\n21 \\n22 \\n23 \\n24 \\n25 \\n26 \\n27 \\n28 \\n29 \\n30 \\n31 \\n32 \\n33 \\n34 \\n35 \\n36 \\n37 \\n38 \\n39 \\n40 \\n41 \\n42 \\n43 \\n44 \\n45 \\n46 \\n47 \\n48 \\n49 \\n50 \\n51 \\n52 \\n53 \\n54 \\n55 \\n56 \\n57 \\n58 \\n59 \\n60 \\n61 \\n62 \\n63 \\n64 \\n65 ')]"
            ]
          },
          "metadata": {},
          "execution_count": 98
        }
      ]
    },
    {
      "cell_type": "code",
      "source": [
        "from langchain.chains import RetrievalQA"
      ],
      "metadata": {
        "id": "Vt5vaVuLEdY9"
      },
      "execution_count": 99,
      "outputs": []
    },
    {
      "cell_type": "code",
      "source": [],
      "metadata": {
        "id": "HkhbVjqiMJXJ"
      },
      "execution_count": 61,
      "outputs": []
    },
    {
      "cell_type": "code",
      "source": [
        "from langchain_core.prompts import ChatPromptTemplate"
      ],
      "metadata": {
        "id": "heu-l-l176Pp"
      },
      "execution_count": 100,
      "outputs": []
    },
    {
      "cell_type": "code",
      "source": [
        "system_prompt = (\n",
        "    \"Use the given context to answer the question. \"\n",
        "    \"If you don't know the answer, say you don't know. \"\n",
        "    \"Use three sentence maximum and keep the answer concise. \"\n",
        "    \"Context: {context}\"\n",
        ")"
      ],
      "metadata": {
        "id": "RrEl6Nm87_Vi"
      },
      "execution_count": 63,
      "outputs": []
    },
    {
      "cell_type": "code",
      "source": [
        "prompt = ChatPromptTemplate.from_messages(\n",
        "    [\n",
        "        (\"system\", system_prompt),\n",
        "        (\"human\", \"{query}\"),\n",
        "    ]\n",
        ")"
      ],
      "metadata": {
        "id": "Gg0TRf_Q72P6"
      },
      "execution_count": 64,
      "outputs": []
    },
    {
      "cell_type": "code",
      "source": [
        "from langchain.prompts import PromptTemplate\n",
        "template = \"\"\"\n",
        "Use the following pieces of context to answer the question at the end.\n",
        "If you don't know the answer, just say that you do not have the relevant information needed to provide a verified answer, don't try to make up an answer.\n",
        "When providing an answer, aim for clarity and precision. Position yourself as a knowledgeable authority on the topic, but also be mindful to explain the information in a manner that is accessible and comprehensible to those without a technical background.\n",
        "Always say \"Do you have any more questions pertaining to this instrument?\" at the end of the answer.\n",
        "{context}\n",
        "Question: {question}\n",
        "Helpful Answer:\"\"\"\n",
        "\n",
        "prompt = PromptTemplate.from_template(template)"
      ],
      "metadata": {
        "id": "GNPZSFun-4Ka"
      },
      "execution_count": 65,
      "outputs": []
    },
    {
      "cell_type": "code",
      "source": [
        "from langchain.chains.combine_documents import create_stuff_documents_chain"
      ],
      "metadata": {
        "id": "Q3lt9jMW8hxK"
      },
      "execution_count": 66,
      "outputs": []
    },
    {
      "cell_type": "code",
      "source": [
        "question_answer_chain = create_stuff_documents_chain(llm, prompt)"
      ],
      "metadata": {
        "id": "ppRiYOIa8b6y"
      },
      "execution_count": 67,
      "outputs": []
    },
    {
      "cell_type": "code",
      "source": [
        "hybrid_chain = RetrievalQA.from_chain_type(llm=llm, chain_type=\"stuff\", retriever=retriever,)\n"
      ],
      "metadata": {
        "id": "3t7fVtBaAOfq"
      },
      "execution_count": 101,
      "outputs": []
    },
    {
      "cell_type": "code",
      "source": [
        "result1 = hybrid_chain.invoke(\"what is digital filters?\")\n",
        "print(result1)"
      ],
      "metadata": {
        "colab": {
          "base_uri": "https://localhost:8080/"
        },
        "id": "I0DfMLiJ6lbr",
        "outputId": "e9040c25-297e-4cb1-a573-8fb5106f2d4d"
      },
      "execution_count": 109,
      "outputs": [
        {
          "output_type": "stream",
          "name": "stderr",
          "text": [
            "Both `max_new_tokens` (=100) and `max_length`(=3000) seem to have been set. `max_new_tokens` will take precedence. Please refer to the documentation for more information. (https://huggingface.co/docs/transformers/main/en/main_classes/text_generation)\n"
          ]
        },
        {
          "output_type": "stream",
          "name": "stdout",
          "text": [
            "{'query': 'what is digital filters?', 'result': \"Use the following pieces of context to answer the question at the end. If you don't know the answer, just say that you don't know, don't try to make up an answer.\\n\\nCircuits, Systems, and Signal Processing  \\nCriteria to Mitigate Overflow Oscillations in\\xa0Externally Interfered Digital Filters \\n--Manuscript Draft-- \\n \\nManuscript Number: CSSP-D-24-00691\\nFull Title: Criteria to Mitigate Overflow Oscillations in\\xa0Externally Interfered Digital Filters\\nArticle Type: Original Research\\nKeywords: Asymptotic stability;  Digital filters;  External disturbance;  Generalized overflow\\nnonlinearities;  Very strict passivity\\nAbstract: This brief proposes novel asymptotic stability criteria for nonlinear digital filters\\nsubjected to external disturbances and overflow nonlinearities. The proposed\\ncriteria, formulated within the linear matrix inequality framework, guarantees\\nthe passive behavior of the nonlinear digital filter based on its storage function.\\nThese conditions are established via a very strict passivity approach, making\\nthem applicable to various nonlinearity types, including zeroing, saturation, two’s\\ncomplement, and triangular. To validate the theoretical findings, appropriate\\nnumerical examples are demonstrated.\\nPowered by Editorial Manager® and ProduXion Manager® from Aries Systems Corporation\\n\\nCircuits, Systems, and Signal Processing  \\nCriteria to Mitigate Overflow Oscillations in\\xa0Externally Interfered Digital Filters \\n--Manuscript Draft-- \\n \\nManuscript Number: CSSP-D-24-00691\\nFull Title: Criteria to Mitigate Overflow Oscillations in\\xa0Externally Interfered Digital Filters\\nArticle Type: Original Research\\nKeywords: Asymptotic stability;  Digital filters;  External disturbance;  Generalized overflow\\nnonlinearities;  Very strict passivity\\nAbstract: This brief proposes novel asymptotic stability criteria for nonlinear digital filters\\nsubjected to external disturbances and overflow nonlinearities. The proposed\\ncriteria, formulated within the linear matrix inequality framework, guarantees\\nthe passive behavior of the nonlinear digital filter based on its storage function.\\nThese conditions are established via a very strict passivity approach, making\\nthem applicable to various nonlinearity types, including zeroing, saturation, two’s\\ncomplement, and triangular. To validate the theoretical findings, appropriate\\nnumerical examples are demonstrated.\\nPowered by Editorial Manager® and ProduXion Manager® from Aries Systems Corporation\\n\\nCriteria to Mitigate Overflow Oscillations in\\nExternally Interfered Digital Filters\\nMounika Pulikonda and Priyanka Kokil\\nAdvanced Signal and Image Processing (ASIP) Lab, Department of\\nElectronics and Communication Engineering, Indian Institute of\\nInformation Technology, Design and Manufacturing, Kancheepuram,\\nChennai, 600127, India.\\n*Corresponding author(s). E-mail(s): priyanka@iiitdm.ac.in\\nContributing authors: ec21d0001@iiitdm.ac.in\\nAbstract\\nThis brief proposes novel asymptotic stability criteria for nonlinear digital fil-\\nters subjected to external disturbances and overflow nonlinearities. The proposed\\ncriteria, formulated within the linear matrix inequality framework, guarantees\\nthe passive behavior of the nonlinear digital filter based on its storage function.\\nThese conditions are established via a very strict passivity approach, making\\nthem applicable to various nonlinearity types, including zeroing, saturation, two’s\\ncomplement, and triangular. To validate the theoretical findings, appropriate\\nnumerical examples are demonstrated.\\nKeywords: Asymptotic stability, Digital filters, External disturbance, Generalized\\noverflow nonlinearities, Very strict passivity\\n1 Introduction\\nDigital filters have extensively found applications in tracking systems, wireless com-\\nmunication, signal processing, navigation systems, and other domains (Classen et al,\\n1976). Nonlinearities, such as quantization and overflow, are often introduced in fixed-\\npoint digital filters (DF) implemented on processors with finite wordlength. The\\npresence of these nonlinearities can cause instability in the DF. Numerous studies have\\ndiscussed stability issues with DF vulnerable to overflow oscillations and external dis-\\nturbances (Liu and Michel, 1992; Krishna Rao Kandanvli and Kar, 2008; Arockiaraj\\n1Manuscript\\n Click here to access/download;Manuscript;Manuscript.pdf\\n 1 \\n 2 \\n 3 \\n 4 \\n 5 \\n 6 \\n 7 \\n 8 \\n 9 \\n10 \\n11 \\n12 \\n13 \\n14 \\n15 \\n16 \\n17 \\n18 \\n19 \\n20 \\n21 \\n22 \\n23 \\n24 \\n25 \\n26 \\n27 \\n28 \\n29 \\n30 \\n31 \\n32 \\n33 \\n34 \\n35 \\n36 \\n37 \\n38 \\n39 \\n40 \\n41 \\n42 \\n43 \\n44 \\n45 \\n46 \\n47 \\n48 \\n49 \\n50 \\n51 \\n52 \\n53 \\n54 \\n55 \\n56 \\n57 \\n58 \\n59 \\n60 \\n61 \\n62 \\n63 \\n64 \\n65 \\n\\nCriteria to Mitigate Overflow Oscillations in\\nExternally Interfered Digital Filters\\nMounika Pulikonda and Priyanka Kokil\\nAdvanced Signal and Image Processing (ASIP) Lab, Department of\\nElectronics and Communication Engineering, Indian Institute of\\nInformation Technology, Design and Manufacturing, Kancheepuram,\\nChennai, 600127, India.\\n*Corresponding author(s). E-mail(s): priyanka@iiitdm.ac.in\\nContributing authors: ec21d0001@iiitdm.ac.in\\nAbstract\\nThis brief proposes novel asymptotic stability criteria for nonlinear digital fil-\\nters subjected to external disturbances and overflow nonlinearities. The proposed\\ncriteria, formulated within the linear matrix inequality framework, guarantees\\nthe passive behavior of the nonlinear digital filter based on its storage function.\\nThese conditions are established via a very strict passivity approach, making\\nthem applicable to various nonlinearity types, including zeroing, saturation, two’s\\ncomplement, and triangular. To validate the theoretical findings, appropriate\\nnumerical examples are demonstrated.\\nKeywords: Asymptotic stability, Digital filters, External disturbance, Generalized\\noverflow nonlinearities, Very strict passivity\\n1 Introduction\\nDigital filters have extensively found applications in tracking systems, wireless com-\\nmunication, signal processing, navigation systems, and other domains (Classen et al,\\n1976). Nonlinearities, such as quantization and overflow, are often introduced in fixed-\\npoint digital filters (DF) implemented on processors with finite wordlength. The\\npresence of these nonlinearities can cause instability in the DF. Numerous studies have\\ndiscussed stability issues with DF vulnerable to overflow oscillations and external dis-\\nturbances (Liu and Michel, 1992; Krishna Rao Kandanvli and Kar, 2008; Arockiaraj\\n1Manuscript\\n Click here to access/download;Manuscript;Manuscript.pdf\\n 1 \\n 2 \\n 3 \\n 4 \\n 5 \\n 6 \\n 7 \\n 8 \\n 9 \\n10 \\n11 \\n12 \\n13 \\n14 \\n15 \\n16 \\n17 \\n18 \\n19 \\n20 \\n21 \\n22 \\n23 \\n24 \\n25 \\n26 \\n27 \\n28 \\n29 \\n30 \\n31 \\n32 \\n33 \\n34 \\n35 \\n36 \\n37 \\n38 \\n39 \\n40 \\n41 \\n42 \\n43 \\n44 \\n45 \\n46 \\n47 \\n48 \\n49 \\n50 \\n51 \\n52 \\n53 \\n54 \\n55 \\n56 \\n57 \\n58 \\n59 \\n60 \\n61 \\n62 \\n63 \\n64 \\n65 \\n\\nQuestion: what is digital filters?\\nHelpful Answer: A digital filter is a circuit or algorithm that processes digital signals, typically to modify or extract certain characteristics such as frequency, phase, or amplitude. In digital signal processing, digital filters are used to remove unwanted noise, separate signals, and perform other signal processing functions. They are implemented using digital circuits or software algorithms, and can be designed to meet a variety of performance requirements, including accuracy, stability, and complexity. Digital filters are used in many applications such as audio and image processing, communications\"}\n"
          ]
        }
      ]
    },
    {
      "cell_type": "code",
      "source": [
        "print(result1['result'])"
      ],
      "metadata": {
        "colab": {
          "base_uri": "https://localhost:8080/"
        },
        "id": "Flsjn21WMypT",
        "outputId": "f53306b3-3209-4380-ccea-e8260a4b7e06"
      },
      "execution_count": 110,
      "outputs": [
        {
          "output_type": "stream",
          "name": "stdout",
          "text": [
            "Use the following pieces of context to answer the question at the end. If you don't know the answer, just say that you don't know, don't try to make up an answer.\n",
            "\n",
            "Circuits, Systems, and Signal Processing  \n",
            "Criteria to Mitigate Overflow Oscillations in Externally Interfered Digital Filters \n",
            "--Manuscript Draft-- \n",
            " \n",
            "Manuscript Number: CSSP-D-24-00691\n",
            "Full Title: Criteria to Mitigate Overflow Oscillations in Externally Interfered Digital Filters\n",
            "Article Type: Original Research\n",
            "Keywords: Asymptotic stability;  Digital filters;  External disturbance;  Generalized overflow\n",
            "nonlinearities;  Very strict passivity\n",
            "Abstract: This brief proposes novel asymptotic stability criteria for nonlinear digital filters\n",
            "subjected to external disturbances and overflow nonlinearities. The proposed\n",
            "criteria, formulated within the linear matrix inequality framework, guarantees\n",
            "the passive behavior of the nonlinear digital filter based on its storage function.\n",
            "These conditions are established via a very strict passivity approach, making\n",
            "them applicable to various nonlinearity types, including zeroing, saturation, two’s\n",
            "complement, and triangular. To validate the theoretical findings, appropriate\n",
            "numerical examples are demonstrated.\n",
            "Powered by Editorial Manager® and ProduXion Manager® from Aries Systems Corporation\n",
            "\n",
            "Circuits, Systems, and Signal Processing  \n",
            "Criteria to Mitigate Overflow Oscillations in Externally Interfered Digital Filters \n",
            "--Manuscript Draft-- \n",
            " \n",
            "Manuscript Number: CSSP-D-24-00691\n",
            "Full Title: Criteria to Mitigate Overflow Oscillations in Externally Interfered Digital Filters\n",
            "Article Type: Original Research\n",
            "Keywords: Asymptotic stability;  Digital filters;  External disturbance;  Generalized overflow\n",
            "nonlinearities;  Very strict passivity\n",
            "Abstract: This brief proposes novel asymptotic stability criteria for nonlinear digital filters\n",
            "subjected to external disturbances and overflow nonlinearities. The proposed\n",
            "criteria, formulated within the linear matrix inequality framework, guarantees\n",
            "the passive behavior of the nonlinear digital filter based on its storage function.\n",
            "These conditions are established via a very strict passivity approach, making\n",
            "them applicable to various nonlinearity types, including zeroing, saturation, two’s\n",
            "complement, and triangular. To validate the theoretical findings, appropriate\n",
            "numerical examples are demonstrated.\n",
            "Powered by Editorial Manager® and ProduXion Manager® from Aries Systems Corporation\n",
            "\n",
            "Criteria to Mitigate Overflow Oscillations in\n",
            "Externally Interfered Digital Filters\n",
            "Mounika Pulikonda and Priyanka Kokil\n",
            "Advanced Signal and Image Processing (ASIP) Lab, Department of\n",
            "Electronics and Communication Engineering, Indian Institute of\n",
            "Information Technology, Design and Manufacturing, Kancheepuram,\n",
            "Chennai, 600127, India.\n",
            "*Corresponding author(s). E-mail(s): priyanka@iiitdm.ac.in\n",
            "Contributing authors: ec21d0001@iiitdm.ac.in\n",
            "Abstract\n",
            "This brief proposes novel asymptotic stability criteria for nonlinear digital fil-\n",
            "ters subjected to external disturbances and overflow nonlinearities. The proposed\n",
            "criteria, formulated within the linear matrix inequality framework, guarantees\n",
            "the passive behavior of the nonlinear digital filter based on its storage function.\n",
            "These conditions are established via a very strict passivity approach, making\n",
            "them applicable to various nonlinearity types, including zeroing, saturation, two’s\n",
            "complement, and triangular. To validate the theoretical findings, appropriate\n",
            "numerical examples are demonstrated.\n",
            "Keywords: Asymptotic stability, Digital filters, External disturbance, Generalized\n",
            "overflow nonlinearities, Very strict passivity\n",
            "1 Introduction\n",
            "Digital filters have extensively found applications in tracking systems, wireless com-\n",
            "munication, signal processing, navigation systems, and other domains (Classen et al,\n",
            "1976). Nonlinearities, such as quantization and overflow, are often introduced in fixed-\n",
            "point digital filters (DF) implemented on processors with finite wordlength. The\n",
            "presence of these nonlinearities can cause instability in the DF. Numerous studies have\n",
            "discussed stability issues with DF vulnerable to overflow oscillations and external dis-\n",
            "turbances (Liu and Michel, 1992; Krishna Rao Kandanvli and Kar, 2008; Arockiaraj\n",
            "1Manuscript\n",
            " Click here to access/download;Manuscript;Manuscript.pdf\n",
            " 1 \n",
            " 2 \n",
            " 3 \n",
            " 4 \n",
            " 5 \n",
            " 6 \n",
            " 7 \n",
            " 8 \n",
            " 9 \n",
            "10 \n",
            "11 \n",
            "12 \n",
            "13 \n",
            "14 \n",
            "15 \n",
            "16 \n",
            "17 \n",
            "18 \n",
            "19 \n",
            "20 \n",
            "21 \n",
            "22 \n",
            "23 \n",
            "24 \n",
            "25 \n",
            "26 \n",
            "27 \n",
            "28 \n",
            "29 \n",
            "30 \n",
            "31 \n",
            "32 \n",
            "33 \n",
            "34 \n",
            "35 \n",
            "36 \n",
            "37 \n",
            "38 \n",
            "39 \n",
            "40 \n",
            "41 \n",
            "42 \n",
            "43 \n",
            "44 \n",
            "45 \n",
            "46 \n",
            "47 \n",
            "48 \n",
            "49 \n",
            "50 \n",
            "51 \n",
            "52 \n",
            "53 \n",
            "54 \n",
            "55 \n",
            "56 \n",
            "57 \n",
            "58 \n",
            "59 \n",
            "60 \n",
            "61 \n",
            "62 \n",
            "63 \n",
            "64 \n",
            "65 \n",
            "\n",
            "Criteria to Mitigate Overflow Oscillations in\n",
            "Externally Interfered Digital Filters\n",
            "Mounika Pulikonda and Priyanka Kokil\n",
            "Advanced Signal and Image Processing (ASIP) Lab, Department of\n",
            "Electronics and Communication Engineering, Indian Institute of\n",
            "Information Technology, Design and Manufacturing, Kancheepuram,\n",
            "Chennai, 600127, India.\n",
            "*Corresponding author(s). E-mail(s): priyanka@iiitdm.ac.in\n",
            "Contributing authors: ec21d0001@iiitdm.ac.in\n",
            "Abstract\n",
            "This brief proposes novel asymptotic stability criteria for nonlinear digital fil-\n",
            "ters subjected to external disturbances and overflow nonlinearities. The proposed\n",
            "criteria, formulated within the linear matrix inequality framework, guarantees\n",
            "the passive behavior of the nonlinear digital filter based on its storage function.\n",
            "These conditions are established via a very strict passivity approach, making\n",
            "them applicable to various nonlinearity types, including zeroing, saturation, two’s\n",
            "complement, and triangular. To validate the theoretical findings, appropriate\n",
            "numerical examples are demonstrated.\n",
            "Keywords: Asymptotic stability, Digital filters, External disturbance, Generalized\n",
            "overflow nonlinearities, Very strict passivity\n",
            "1 Introduction\n",
            "Digital filters have extensively found applications in tracking systems, wireless com-\n",
            "munication, signal processing, navigation systems, and other domains (Classen et al,\n",
            "1976). Nonlinearities, such as quantization and overflow, are often introduced in fixed-\n",
            "point digital filters (DF) implemented on processors with finite wordlength. The\n",
            "presence of these nonlinearities can cause instability in the DF. Numerous studies have\n",
            "discussed stability issues with DF vulnerable to overflow oscillations and external dis-\n",
            "turbances (Liu and Michel, 1992; Krishna Rao Kandanvli and Kar, 2008; Arockiaraj\n",
            "1Manuscript\n",
            " Click here to access/download;Manuscript;Manuscript.pdf\n",
            " 1 \n",
            " 2 \n",
            " 3 \n",
            " 4 \n",
            " 5 \n",
            " 6 \n",
            " 7 \n",
            " 8 \n",
            " 9 \n",
            "10 \n",
            "11 \n",
            "12 \n",
            "13 \n",
            "14 \n",
            "15 \n",
            "16 \n",
            "17 \n",
            "18 \n",
            "19 \n",
            "20 \n",
            "21 \n",
            "22 \n",
            "23 \n",
            "24 \n",
            "25 \n",
            "26 \n",
            "27 \n",
            "28 \n",
            "29 \n",
            "30 \n",
            "31 \n",
            "32 \n",
            "33 \n",
            "34 \n",
            "35 \n",
            "36 \n",
            "37 \n",
            "38 \n",
            "39 \n",
            "40 \n",
            "41 \n",
            "42 \n",
            "43 \n",
            "44 \n",
            "45 \n",
            "46 \n",
            "47 \n",
            "48 \n",
            "49 \n",
            "50 \n",
            "51 \n",
            "52 \n",
            "53 \n",
            "54 \n",
            "55 \n",
            "56 \n",
            "57 \n",
            "58 \n",
            "59 \n",
            "60 \n",
            "61 \n",
            "62 \n",
            "63 \n",
            "64 \n",
            "65 \n",
            "\n",
            "Question: what is digital filters?\n",
            "Helpful Answer: A digital filter is a circuit or algorithm that processes digital signals, typically to modify or extract certain characteristics such as frequency, phase, or amplitude. In digital signal processing, digital filters are used to remove unwanted noise, separate signals, and perform other signal processing functions. They are implemented using digital circuits or software algorithms, and can be designed to meet a variety of performance requirements, including accuracy, stability, and complexity. Digital filters are used in many applications such as audio and image processing, communications\n"
          ]
        }
      ]
    },
    {
      "cell_type": "code",
      "source": [
        "query=\"what is external interference in digital filter?\""
      ],
      "metadata": {
        "id": "QhG3Krz99APy"
      },
      "execution_count": 111,
      "outputs": []
    },
    {
      "cell_type": "code",
      "source": [
        "response = hybrid_chain.invoke({\"query\":query})"
      ],
      "metadata": {
        "id": "hmmRp1O_ArC9",
        "colab": {
          "base_uri": "https://localhost:8080/"
        },
        "outputId": "0980e33b-8ab4-4a51-c2b2-17ffad197ec7"
      },
      "execution_count": 112,
      "outputs": [
        {
          "output_type": "stream",
          "name": "stderr",
          "text": [
            "Both `max_new_tokens` (=100) and `max_length`(=3000) seem to have been set. `max_new_tokens` will take precedence. Please refer to the documentation for more information. (https://huggingface.co/docs/transformers/main/en/main_classes/text_generation)\n"
          ]
        }
      ]
    },
    {
      "cell_type": "code",
      "source": [
        "print(response['result']['Helpful Answer'])"
      ],
      "metadata": {
        "colab": {
          "base_uri": "https://localhost:8080/",
          "height": 147
        },
        "id": "dDLuvEdIWX-F",
        "outputId": "03a35837-6eb9-4529-f72e-1b62bae44c57"
      },
      "execution_count": 125,
      "outputs": [
        {
          "output_type": "error",
          "ename": "TypeError",
          "evalue": "string indices must be integers",
          "traceback": [
            "\u001b[0;31m---------------------------------------------------------------------------\u001b[0m",
            "\u001b[0;31mTypeError\u001b[0m                                 Traceback (most recent call last)",
            "\u001b[0;32m<ipython-input-125-a2ea38231397>\u001b[0m in \u001b[0;36m<cell line: 1>\u001b[0;34m()\u001b[0m\n\u001b[0;32m----> 1\u001b[0;31m \u001b[0mprint\u001b[0m\u001b[0;34m(\u001b[0m\u001b[0mresponse\u001b[0m\u001b[0;34m[\u001b[0m\u001b[0;34m'result'\u001b[0m\u001b[0;34m]\u001b[0m\u001b[0;34m[\u001b[0m\u001b[0;34m'Helpful Answer'\u001b[0m\u001b[0;34m]\u001b[0m\u001b[0;34m)\u001b[0m\u001b[0;34m\u001b[0m\u001b[0;34m\u001b[0m\u001b[0m\n\u001b[0m",
            "\u001b[0;31mTypeError\u001b[0m: string indices must be integers"
          ]
        }
      ]
    },
    {
      "cell_type": "code",
      "source": [
        "print(response['query'])\n",
        "print(response['result'][-550:])"
      ],
      "metadata": {
        "colab": {
          "base_uri": "https://localhost:8080/"
        },
        "id": "bxfGIzgbXeui",
        "outputId": "2d1cd6d7-8362-4d15-9111-5e9bc4c9bcb6"
      },
      "execution_count": 132,
      "outputs": [
        {
          "output_type": "stream",
          "name": "stdout",
          "text": [
            "what is external interference in digital filter?\n",
            "swer: In the context of digital filters, external interference refers to unwanted or disturbing signals that are introduced into the system from outside sources, such as noise or other signals that may affect the accuracy and stability of the filter. These external disturbances can cause oscillations, instability, and other issues in the filter's performance, and it is important to develop criteria and methods to mitigate the effects of external interference and ensure the filter's stability and accuracy. The proposed criteria in this brief aim\n"
          ]
        }
      ]
    },
    {
      "cell_type": "code",
      "source": [
        "from langchain_core.runnables import RunnableParallel, RunnablePassthrough"
      ],
      "metadata": {
        "id": "LZ-Id5sW-LLR"
      },
      "execution_count": 133,
      "outputs": []
    },
    {
      "cell_type": "code",
      "source": [
        "# Set up the RAG chain\n",
        "rag_chain = (\n",
        "    {\"context\": retriever, \"question\": RunnablePassthrough()} |\n",
        "    prompt |\n",
        "    llm\n",
        ")"
      ],
      "metadata": {
        "id": "b1DvxugA-DIC"
      },
      "execution_count": 134,
      "outputs": []
    },
    {
      "cell_type": "code",
      "source": [
        "query=\"what is digital filters?\""
      ],
      "metadata": {
        "id": "OTU5Wycg-l9y"
      },
      "execution_count": 135,
      "outputs": []
    },
    {
      "cell_type": "code",
      "source": [
        "response=rag_chain.invoke(query)"
      ],
      "metadata": {
        "colab": {
          "base_uri": "https://localhost:8080/"
        },
        "id": "ykAekNO_-bkZ",
        "outputId": "da925865-6910-42c4-cdeb-360653de091d"
      },
      "execution_count": 136,
      "outputs": [
        {
          "output_type": "stream",
          "name": "stderr",
          "text": [
            "Both `max_new_tokens` (=100) and `max_length`(=3000) seem to have been set. `max_new_tokens` will take precedence. Please refer to the documentation for more information. (https://huggingface.co/docs/transformers/main/en/main_classes/text_generation)\n"
          ]
        }
      ]
    },
    {
      "cell_type": "code",
      "source": [
        "print(response)"
      ],
      "metadata": {
        "colab": {
          "base_uri": "https://localhost:8080/"
        },
        "id": "iqKKvHQ-_05x",
        "outputId": "90e56a83-2d64-4533-f575-cb72f397b535"
      },
      "execution_count": 137,
      "outputs": [
        {
          "output_type": "stream",
          "name": "stdout",
          "text": [
            "\n",
            "Use the following pieces of context to answer the question at the end.\n",
            "If you don't know the answer, just say that you do not have the relevant information needed to provide a verified answer, don't try to make up an answer.\n",
            "When providing an answer, aim for clarity and precision. Position yourself as a knowledgeable authority on the topic, but also be mindful to explain the information in a manner that is accessible and comprehensible to those without a technical background.\n",
            "Always say \"Do you have any more questions pertaining to this instrument?\" at the end of the answer.\n",
            "[Document(page_content='Circuits, Systems, and Signal Processing  \\nCriteria to Mitigate Overflow Oscillations in\\xa0Externally Interfered Digital Filters \\n--Manuscript Draft-- \\n \\nManuscript Number: CSSP-D-24-00691\\nFull Title: Criteria to Mitigate Overflow Oscillations in\\xa0Externally Interfered Digital Filters\\nArticle Type: Original Research\\nKeywords: Asymptotic stability;  Digital filters;  External disturbance;  Generalized overflow\\nnonlinearities;  Very strict passivity\\nAbstract: This brief proposes novel asymptotic stability criteria for nonlinear digital filters\\nsubjected to external disturbances and overflow nonlinearities. The proposed\\ncriteria, formulated within the linear matrix inequality framework, guarantees\\nthe passive behavior of the nonlinear digital filter based on its storage function.\\nThese conditions are established via a very strict passivity approach, making\\nthem applicable to various nonlinearity types, including zeroing, saturation, two’s\\ncomplement, and triangular. To validate the theoretical findings, appropriate\\nnumerical examples are demonstrated.\\nPowered by Editorial Manager® and ProduXion Manager® from Aries Systems Corporation'), Document(page_content='Circuits, Systems, and Signal Processing  \\nCriteria to Mitigate Overflow Oscillations in\\xa0Externally Interfered Digital Filters \\n--Manuscript Draft-- \\n \\nManuscript Number: CSSP-D-24-00691\\nFull Title: Criteria to Mitigate Overflow Oscillations in\\xa0Externally Interfered Digital Filters\\nArticle Type: Original Research\\nKeywords: Asymptotic stability;  Digital filters;  External disturbance;  Generalized overflow\\nnonlinearities;  Very strict passivity\\nAbstract: This brief proposes novel asymptotic stability criteria for nonlinear digital filters\\nsubjected to external disturbances and overflow nonlinearities. The proposed\\ncriteria, formulated within the linear matrix inequality framework, guarantees\\nthe passive behavior of the nonlinear digital filter based on its storage function.\\nThese conditions are established via a very strict passivity approach, making\\nthem applicable to various nonlinearity types, including zeroing, saturation, two’s\\ncomplement, and triangular. To validate the theoretical findings, appropriate\\nnumerical examples are demonstrated.\\nPowered by Editorial Manager® and ProduXion Manager® from Aries Systems Corporation'), Document(page_content='Criteria to Mitigate Overflow Oscillations in\\nExternally Interfered Digital Filters\\nMounika Pulikonda and Priyanka Kokil\\nAdvanced Signal and Image Processing (ASIP) Lab, Department of\\nElectronics and Communication Engineering, Indian Institute of\\nInformation Technology, Design and Manufacturing, Kancheepuram,\\nChennai, 600127, India.\\n*Corresponding author(s). E-mail(s): priyanka@iiitdm.ac.in\\nContributing authors: ec21d0001@iiitdm.ac.in\\nAbstract\\nThis brief proposes novel asymptotic stability criteria for nonlinear digital fil-\\nters subjected to external disturbances and overflow nonlinearities. The proposed\\ncriteria, formulated within the linear matrix inequality framework, guarantees\\nthe passive behavior of the nonlinear digital filter based on its storage function.\\nThese conditions are established via a very strict passivity approach, making\\nthem applicable to various nonlinearity types, including zeroing, saturation, two’s\\ncomplement, and triangular. To validate the theoretical findings, appropriate\\nnumerical examples are demonstrated.\\nKeywords: Asymptotic stability, Digital filters, External disturbance, Generalized\\noverflow nonlinearities, Very strict passivity\\n1 Introduction\\nDigital filters have extensively found applications in tracking systems, wireless com-\\nmunication, signal processing, navigation systems, and other domains (Classen et al,\\n1976). Nonlinearities, such as quantization and overflow, are often introduced in fixed-\\npoint digital filters (DF) implemented on processors with finite wordlength. The\\npresence of these nonlinearities can cause instability in the DF. Numerous studies have\\ndiscussed stability issues with DF vulnerable to overflow oscillations and external dis-\\nturbances (Liu and Michel, 1992; Krishna Rao Kandanvli and Kar, 2008; Arockiaraj\\n1Manuscript\\n Click here to access/download;Manuscript;Manuscript.pdf\\n 1 \\n 2 \\n 3 \\n 4 \\n 5 \\n 6 \\n 7 \\n 8 \\n 9 \\n10 \\n11 \\n12 \\n13 \\n14 \\n15 \\n16 \\n17 \\n18 \\n19 \\n20 \\n21 \\n22 \\n23 \\n24 \\n25 \\n26 \\n27 \\n28 \\n29 \\n30 \\n31 \\n32 \\n33 \\n34 \\n35 \\n36 \\n37 \\n38 \\n39 \\n40 \\n41 \\n42 \\n43 \\n44 \\n45 \\n46 \\n47 \\n48 \\n49 \\n50 \\n51 \\n52 \\n53 \\n54 \\n55 \\n56 \\n57 \\n58 \\n59 \\n60 \\n61 \\n62 \\n63 \\n64 \\n65 '), Document(page_content='Criteria to Mitigate Overflow Oscillations in\\nExternally Interfered Digital Filters\\nMounika Pulikonda and Priyanka Kokil\\nAdvanced Signal and Image Processing (ASIP) Lab, Department of\\nElectronics and Communication Engineering, Indian Institute of\\nInformation Technology, Design and Manufacturing, Kancheepuram,\\nChennai, 600127, India.\\n*Corresponding author(s). E-mail(s): priyanka@iiitdm.ac.in\\nContributing authors: ec21d0001@iiitdm.ac.in\\nAbstract\\nThis brief proposes novel asymptotic stability criteria for nonlinear digital fil-\\nters subjected to external disturbances and overflow nonlinearities. The proposed\\ncriteria, formulated within the linear matrix inequality framework, guarantees\\nthe passive behavior of the nonlinear digital filter based on its storage function.\\nThese conditions are established via a very strict passivity approach, making\\nthem applicable to various nonlinearity types, including zeroing, saturation, two’s\\ncomplement, and triangular. To validate the theoretical findings, appropriate\\nnumerical examples are demonstrated.\\nKeywords: Asymptotic stability, Digital filters, External disturbance, Generalized\\noverflow nonlinearities, Very strict passivity\\n1 Introduction\\nDigital filters have extensively found applications in tracking systems, wireless com-\\nmunication, signal processing, navigation systems, and other domains (Classen et al,\\n1976). Nonlinearities, such as quantization and overflow, are often introduced in fixed-\\npoint digital filters (DF) implemented on processors with finite wordlength. The\\npresence of these nonlinearities can cause instability in the DF. Numerous studies have\\ndiscussed stability issues with DF vulnerable to overflow oscillations and external dis-\\nturbances (Liu and Michel, 1992; Krishna Rao Kandanvli and Kar, 2008; Arockiaraj\\n1Manuscript\\n Click here to access/download;Manuscript;Manuscript.pdf\\n 1 \\n 2 \\n 3 \\n 4 \\n 5 \\n 6 \\n 7 \\n 8 \\n 9 \\n10 \\n11 \\n12 \\n13 \\n14 \\n15 \\n16 \\n17 \\n18 \\n19 \\n20 \\n21 \\n22 \\n23 \\n24 \\n25 \\n26 \\n27 \\n28 \\n29 \\n30 \\n31 \\n32 \\n33 \\n34 \\n35 \\n36 \\n37 \\n38 \\n39 \\n40 \\n41 \\n42 \\n43 \\n44 \\n45 \\n46 \\n47 \\n48 \\n49 \\n50 \\n51 \\n52 \\n53 \\n54 \\n55 \\n56 \\n57 \\n58 \\n59 \\n60 \\n61 \\n62 \\n63 \\n64 \\n65 ')]\n",
            "Question: what is digital filters?\n",
            "Helpful Answer: A digital filter is an electronic circuit or mathematical process that manipulates digital signals to remove unwanted noise, reduce distortion, or extract useful information. These filters can be implemented using digital signal processing techniques and digital hardware such as microcontrollers or digital signal processors (DSPs). They are commonly used in applications such as audio and image processing, control systems, and communication systems. Digital filters can also be used to perform various types of operations on digital data, such as smoothing,\n"
          ]
        }
      ]
    },
    {
      "cell_type": "code",
      "source": [
        "response"
      ],
      "metadata": {
        "id": "KWe11B_3H6Yc"
      },
      "execution_count": null,
      "outputs": []
    },
    {
      "cell_type": "code",
      "source": [
        "from langchain.retrievers import ContextualCompressionRetriever\n",
        "from langchain.retrievers.document_compressors import CohereRerank"
      ],
      "metadata": {
        "id": "0A3hrUdwJ3pC"
      },
      "execution_count": 139,
      "outputs": []
    },
    {
      "cell_type": "code",
      "source": [
        "!pip install cohere"
      ],
      "metadata": {
        "colab": {
          "base_uri": "https://localhost:8080/"
        },
        "id": "1VewE8gRKCla",
        "outputId": "70fd610c-e974-45d1-b1d5-b245844587fb"
      },
      "execution_count": 140,
      "outputs": [
        {
          "output_type": "stream",
          "name": "stdout",
          "text": [
            "Collecting cohere\n",
            "  Downloading cohere-5.5.8-py3-none-any.whl (173 kB)\n",
            "\u001b[2K     \u001b[90m━━━━━━━━━━━━━━━━━━━━━━━━━━━━━━━━━━━━━━━━\u001b[0m \u001b[32m173.8/173.8 kB\u001b[0m \u001b[31m5.3 MB/s\u001b[0m eta \u001b[36m0:00:00\u001b[0m\n",
            "\u001b[?25hCollecting boto3<2.0.0,>=1.34.0 (from cohere)\n",
            "  Downloading boto3-1.34.142-py3-none-any.whl (139 kB)\n",
            "\u001b[2K     \u001b[90m━━━━━━━━━━━━━━━━━━━━━━━━━━━━━━━━━━━━━━━━\u001b[0m \u001b[32m139.2/139.2 kB\u001b[0m \u001b[31m12.7 MB/s\u001b[0m eta \u001b[36m0:00:00\u001b[0m\n",
            "\u001b[?25hCollecting fastavro<2.0.0,>=1.9.4 (from cohere)\n",
            "  Downloading fastavro-1.9.5-cp310-cp310-manylinux_2_17_x86_64.manylinux2014_x86_64.whl (3.1 MB)\n",
            "\u001b[2K     \u001b[90m━━━━━━━━━━━━━━━━━━━━━━━━━━━━━━━━━━━━━━━━\u001b[0m \u001b[32m3.1/3.1 MB\u001b[0m \u001b[31m63.1 MB/s\u001b[0m eta \u001b[36m0:00:00\u001b[0m\n",
            "\u001b[?25hRequirement already satisfied: httpx>=0.21.2 in /usr/local/lib/python3.10/dist-packages (from cohere) (0.27.0)\n",
            "Collecting httpx-sse<0.5.0,>=0.4.0 (from cohere)\n",
            "  Downloading httpx_sse-0.4.0-py3-none-any.whl (7.8 kB)\n",
            "Collecting parameterized<0.10.0,>=0.9.0 (from cohere)\n",
            "  Downloading parameterized-0.9.0-py2.py3-none-any.whl (20 kB)\n",
            "Requirement already satisfied: pydantic>=1.9.2 in /usr/local/lib/python3.10/dist-packages (from cohere) (2.8.0)\n",
            "Requirement already satisfied: requests<3.0.0,>=2.0.0 in /usr/local/lib/python3.10/dist-packages (from cohere) (2.31.0)\n",
            "Requirement already satisfied: tokenizers<1,>=0.15 in /usr/local/lib/python3.10/dist-packages (from cohere) (0.19.1)\n",
            "Collecting types-requests<3.0.0,>=2.0.0 (from cohere)\n",
            "  Downloading types_requests-2.32.0.20240622-py3-none-any.whl (15 kB)\n",
            "Requirement already satisfied: typing_extensions>=4.0.0 in /usr/local/lib/python3.10/dist-packages (from cohere) (4.12.2)\n",
            "Collecting botocore<1.35.0,>=1.34.142 (from boto3<2.0.0,>=1.34.0->cohere)\n",
            "  Downloading botocore-1.34.142-py3-none-any.whl (12.4 MB)\n",
            "\u001b[2K     \u001b[90m━━━━━━━━━━━━━━━━━━━━━━━━━━━━━━━━━━━━━━━━\u001b[0m \u001b[32m12.4/12.4 MB\u001b[0m \u001b[31m84.3 MB/s\u001b[0m eta \u001b[36m0:00:00\u001b[0m\n",
            "\u001b[?25hCollecting jmespath<2.0.0,>=0.7.1 (from boto3<2.0.0,>=1.34.0->cohere)\n",
            "  Downloading jmespath-1.0.1-py3-none-any.whl (20 kB)\n",
            "Collecting s3transfer<0.11.0,>=0.10.0 (from boto3<2.0.0,>=1.34.0->cohere)\n",
            "  Downloading s3transfer-0.10.2-py3-none-any.whl (82 kB)\n",
            "\u001b[2K     \u001b[90m━━━━━━━━━━━━━━━━━━━━━━━━━━━━━━━━━━━━━━━━\u001b[0m \u001b[32m82.7/82.7 kB\u001b[0m \u001b[31m11.2 MB/s\u001b[0m eta \u001b[36m0:00:00\u001b[0m\n",
            "\u001b[?25hRequirement already satisfied: anyio in /usr/local/lib/python3.10/dist-packages (from httpx>=0.21.2->cohere) (3.7.1)\n",
            "Requirement already satisfied: certifi in /usr/local/lib/python3.10/dist-packages (from httpx>=0.21.2->cohere) (2024.6.2)\n",
            "Requirement already satisfied: httpcore==1.* in /usr/local/lib/python3.10/dist-packages (from httpx>=0.21.2->cohere) (1.0.5)\n",
            "Requirement already satisfied: idna in /usr/local/lib/python3.10/dist-packages (from httpx>=0.21.2->cohere) (3.7)\n",
            "Requirement already satisfied: sniffio in /usr/local/lib/python3.10/dist-packages (from httpx>=0.21.2->cohere) (1.3.1)\n",
            "Requirement already satisfied: h11<0.15,>=0.13 in /usr/local/lib/python3.10/dist-packages (from httpcore==1.*->httpx>=0.21.2->cohere) (0.14.0)\n",
            "Requirement already satisfied: annotated-types>=0.4.0 in /usr/local/lib/python3.10/dist-packages (from pydantic>=1.9.2->cohere) (0.7.0)\n",
            "Requirement already satisfied: pydantic-core==2.20.0 in /usr/local/lib/python3.10/dist-packages (from pydantic>=1.9.2->cohere) (2.20.0)\n",
            "Requirement already satisfied: charset-normalizer<4,>=2 in /usr/local/lib/python3.10/dist-packages (from requests<3.0.0,>=2.0.0->cohere) (3.3.2)\n",
            "Requirement already satisfied: urllib3<3,>=1.21.1 in /usr/local/lib/python3.10/dist-packages (from requests<3.0.0,>=2.0.0->cohere) (2.0.7)\n",
            "Requirement already satisfied: huggingface-hub<1.0,>=0.16.4 in /usr/local/lib/python3.10/dist-packages (from tokenizers<1,>=0.15->cohere) (0.23.4)\n",
            "Requirement already satisfied: python-dateutil<3.0.0,>=2.1 in /usr/local/lib/python3.10/dist-packages (from botocore<1.35.0,>=1.34.142->boto3<2.0.0,>=1.34.0->cohere) (2.8.2)\n",
            "Requirement already satisfied: filelock in /usr/local/lib/python3.10/dist-packages (from huggingface-hub<1.0,>=0.16.4->tokenizers<1,>=0.15->cohere) (3.15.4)\n",
            "Requirement already satisfied: fsspec>=2023.5.0 in /usr/local/lib/python3.10/dist-packages (from huggingface-hub<1.0,>=0.16.4->tokenizers<1,>=0.15->cohere) (2023.6.0)\n",
            "Requirement already satisfied: packaging>=20.9 in /usr/local/lib/python3.10/dist-packages (from huggingface-hub<1.0,>=0.16.4->tokenizers<1,>=0.15->cohere) (24.1)\n",
            "Requirement already satisfied: pyyaml>=5.1 in /usr/local/lib/python3.10/dist-packages (from huggingface-hub<1.0,>=0.16.4->tokenizers<1,>=0.15->cohere) (6.0.1)\n",
            "Requirement already satisfied: tqdm>=4.42.1 in /usr/local/lib/python3.10/dist-packages (from huggingface-hub<1.0,>=0.16.4->tokenizers<1,>=0.15->cohere) (4.66.4)\n",
            "Requirement already satisfied: exceptiongroup in /usr/local/lib/python3.10/dist-packages (from anyio->httpx>=0.21.2->cohere) (1.2.1)\n",
            "Requirement already satisfied: six>=1.5 in /usr/local/lib/python3.10/dist-packages (from python-dateutil<3.0.0,>=2.1->botocore<1.35.0,>=1.34.142->boto3<2.0.0,>=1.34.0->cohere) (1.16.0)\n",
            "Installing collected packages: types-requests, parameterized, jmespath, httpx-sse, fastavro, botocore, s3transfer, boto3, cohere\n",
            "Successfully installed boto3-1.34.142 botocore-1.34.142 cohere-5.5.8 fastavro-1.9.5 httpx-sse-0.4.0 jmespath-1.0.1 parameterized-0.9.0 s3transfer-0.10.2 types-requests-2.32.0.20240622\n"
          ]
        }
      ]
    },
    {
      "cell_type": "code",
      "source": [
        "compressor = CohereRerank(cohere_api_key=\"XaM8Iw3XZYrTyjgw1MdMBNekmc2kQh59aMRSdBov\")"
      ],
      "metadata": {
        "id": "OE0vUax4J-Ij"
      },
      "execution_count": 142,
      "outputs": []
    },
    {
      "cell_type": "code",
      "source": [
        "compression_retriever = ContextualCompressionRetriever(\n",
        "    base_compressor=compressor, base_retriever=retriever\n",
        "    )"
      ],
      "metadata": {
        "id": "b3Kmr4CIKG7n"
      },
      "execution_count": 144,
      "outputs": []
    },
    {
      "cell_type": "code",
      "source": [
        "compressed_docs = compression_retriever.get_relevant_documents(query)\n",
        "# Print the relevant documents from using the embeddings and reranker\n",
        "print(compressed_docs)\n"
      ],
      "metadata": {
        "id": "f7m22qlCiUAb",
        "colab": {
          "base_uri": "https://localhost:8080/"
        },
        "outputId": "c116d5da-005a-4f3d-adf7-b6567acc19ec"
      },
      "execution_count": 146,
      "outputs": [
        {
          "output_type": "stream",
          "name": "stderr",
          "text": [
            "/usr/local/lib/python3.10/dist-packages/langchain_core/_api/deprecation.py:139: LangChainDeprecationWarning: The method `BaseRetriever.get_relevant_documents` was deprecated in langchain-core 0.1.46 and will be removed in 0.3.0. Use invoke instead.\n",
            "  warn_deprecated(\n"
          ]
        },
        {
          "output_type": "stream",
          "name": "stdout",
          "text": [
            "[Document(metadata={'relevance_score': 0.79549927}, page_content='Criteria to Mitigate Overflow Oscillations in\\nExternally Interfered Digital Filters\\nMounika Pulikonda and Priyanka Kokil\\nAdvanced Signal and Image Processing (ASIP) Lab, Department of\\nElectronics and Communication Engineering, Indian Institute of\\nInformation Technology, Design and Manufacturing, Kancheepuram,\\nChennai, 600127, India.\\n*Corresponding author(s). E-mail(s): priyanka@iiitdm.ac.in\\nContributing authors: ec21d0001@iiitdm.ac.in\\nAbstract\\nThis brief proposes novel asymptotic stability criteria for nonlinear digital fil-\\nters subjected to external disturbances and overflow nonlinearities. The proposed\\ncriteria, formulated within the linear matrix inequality framework, guarantees\\nthe passive behavior of the nonlinear digital filter based on its storage function.\\nThese conditions are established via a very strict passivity approach, making\\nthem applicable to various nonlinearity types, including zeroing, saturation, two’s\\ncomplement, and triangular. To validate the theoretical findings, appropriate\\nnumerical examples are demonstrated.\\nKeywords: Asymptotic stability, Digital filters, External disturbance, Generalized\\noverflow nonlinearities, Very strict passivity\\n1 Introduction\\nDigital filters have extensively found applications in tracking systems, wireless com-\\nmunication, signal processing, navigation systems, and other domains (Classen et al,\\n1976). Nonlinearities, such as quantization and overflow, are often introduced in fixed-\\npoint digital filters (DF) implemented on processors with finite wordlength. The\\npresence of these nonlinearities can cause instability in the DF. Numerous studies have\\ndiscussed stability issues with DF vulnerable to overflow oscillations and external dis-\\nturbances (Liu and Michel, 1992; Krishna Rao Kandanvli and Kar, 2008; Arockiaraj\\n1Manuscript\\n Click here to access/download;Manuscript;Manuscript.pdf\\n 1 \\n 2 \\n 3 \\n 4 \\n 5 \\n 6 \\n 7 \\n 8 \\n 9 \\n10 \\n11 \\n12 \\n13 \\n14 \\n15 \\n16 \\n17 \\n18 \\n19 \\n20 \\n21 \\n22 \\n23 \\n24 \\n25 \\n26 \\n27 \\n28 \\n29 \\n30 \\n31 \\n32 \\n33 \\n34 \\n35 \\n36 \\n37 \\n38 \\n39 \\n40 \\n41 \\n42 \\n43 \\n44 \\n45 \\n46 \\n47 \\n48 \\n49 \\n50 \\n51 \\n52 \\n53 \\n54 \\n55 \\n56 \\n57 \\n58 \\n59 \\n60 \\n61 \\n62 \\n63 \\n64 \\n65 '), Document(metadata={'relevance_score': 0.79549927}, page_content='Criteria to Mitigate Overflow Oscillations in\\nExternally Interfered Digital Filters\\nMounika Pulikonda and Priyanka Kokil\\nAdvanced Signal and Image Processing (ASIP) Lab, Department of\\nElectronics and Communication Engineering, Indian Institute of\\nInformation Technology, Design and Manufacturing, Kancheepuram,\\nChennai, 600127, India.\\n*Corresponding author(s). E-mail(s): priyanka@iiitdm.ac.in\\nContributing authors: ec21d0001@iiitdm.ac.in\\nAbstract\\nThis brief proposes novel asymptotic stability criteria for nonlinear digital fil-\\nters subjected to external disturbances and overflow nonlinearities. The proposed\\ncriteria, formulated within the linear matrix inequality framework, guarantees\\nthe passive behavior of the nonlinear digital filter based on its storage function.\\nThese conditions are established via a very strict passivity approach, making\\nthem applicable to various nonlinearity types, including zeroing, saturation, two’s\\ncomplement, and triangular. To validate the theoretical findings, appropriate\\nnumerical examples are demonstrated.\\nKeywords: Asymptotic stability, Digital filters, External disturbance, Generalized\\noverflow nonlinearities, Very strict passivity\\n1 Introduction\\nDigital filters have extensively found applications in tracking systems, wireless com-\\nmunication, signal processing, navigation systems, and other domains (Classen et al,\\n1976). Nonlinearities, such as quantization and overflow, are often introduced in fixed-\\npoint digital filters (DF) implemented on processors with finite wordlength. The\\npresence of these nonlinearities can cause instability in the DF. Numerous studies have\\ndiscussed stability issues with DF vulnerable to overflow oscillations and external dis-\\nturbances (Liu and Michel, 1992; Krishna Rao Kandanvli and Kar, 2008; Arockiaraj\\n1Manuscript\\n Click here to access/download;Manuscript;Manuscript.pdf\\n 1 \\n 2 \\n 3 \\n 4 \\n 5 \\n 6 \\n 7 \\n 8 \\n 9 \\n10 \\n11 \\n12 \\n13 \\n14 \\n15 \\n16 \\n17 \\n18 \\n19 \\n20 \\n21 \\n22 \\n23 \\n24 \\n25 \\n26 \\n27 \\n28 \\n29 \\n30 \\n31 \\n32 \\n33 \\n34 \\n35 \\n36 \\n37 \\n38 \\n39 \\n40 \\n41 \\n42 \\n43 \\n44 \\n45 \\n46 \\n47 \\n48 \\n49 \\n50 \\n51 \\n52 \\n53 \\n54 \\n55 \\n56 \\n57 \\n58 \\n59 \\n60 \\n61 \\n62 \\n63 \\n64 \\n65 '), Document(metadata={'relevance_score': 0.53776973}, page_content='Circuits, Systems, and Signal Processing  \\nCriteria to Mitigate Overflow Oscillations in\\xa0Externally Interfered Digital Filters \\n--Manuscript Draft-- \\n \\nManuscript Number: CSSP-D-24-00691\\nFull Title: Criteria to Mitigate Overflow Oscillations in\\xa0Externally Interfered Digital Filters\\nArticle Type: Original Research\\nKeywords: Asymptotic stability;  Digital filters;  External disturbance;  Generalized overflow\\nnonlinearities;  Very strict passivity\\nAbstract: This brief proposes novel asymptotic stability criteria for nonlinear digital filters\\nsubjected to external disturbances and overflow nonlinearities. The proposed\\ncriteria, formulated within the linear matrix inequality framework, guarantees\\nthe passive behavior of the nonlinear digital filter based on its storage function.\\nThese conditions are established via a very strict passivity approach, making\\nthem applicable to various nonlinearity types, including zeroing, saturation, two’s\\ncomplement, and triangular. To validate the theoretical findings, appropriate\\nnumerical examples are demonstrated.\\nPowered by Editorial Manager® and ProduXion Manager® from Aries Systems Corporation')]\n"
          ]
        }
      ]
    },
    {
      "cell_type": "code",
      "source": [
        "\n",
        "for doc in compressed_docs:\n",
        "  print(doc.metadata['relevance_score'])"
      ],
      "metadata": {
        "colab": {
          "base_uri": "https://localhost:8080/"
        },
        "id": "zaAtUny-iTyc",
        "outputId": "cb51c81e-2116-4aaa-e991-dffda88aefa0"
      },
      "execution_count": 164,
      "outputs": [
        {
          "output_type": "stream",
          "name": "stdout",
          "text": [
            "0.79549927\n",
            "0.79549927\n",
            "0.53776973\n"
          ]
        }
      ]
    },
    {
      "cell_type": "code",
      "source": [
        "hybrid_chain = RetrievalQA.from_chain_type(\n",
        "    llm=llm, chain_type=\"stuff\", retriever=compression_retriever\n",
        ")"
      ],
      "metadata": {
        "id": "0dKqM3XbKkE4"
      },
      "execution_count": 147,
      "outputs": []
    },
    {
      "cell_type": "code",
      "source": [
        "response = hybrid_chain.invoke(\"What is external interference?\")"
      ],
      "metadata": {
        "id": "2N2k_RCmKAIL",
        "colab": {
          "base_uri": "https://localhost:8080/"
        },
        "outputId": "4f33c2bb-0463-41e0-98e0-072296850a67"
      },
      "execution_count": 148,
      "outputs": [
        {
          "output_type": "stream",
          "name": "stderr",
          "text": [
            "Both `max_new_tokens` (=100) and `max_length`(=3000) seem to have been set. `max_new_tokens` will take precedence. Please refer to the documentation for more information. (https://huggingface.co/docs/transformers/main/en/main_classes/text_generation)\n"
          ]
        }
      ]
    },
    {
      "cell_type": "code",
      "source": [
        "print(response.get(\"result\"))"
      ],
      "metadata": {
        "id": "DVJxJg-bK2pg"
      },
      "execution_count": null,
      "outputs": []
    },
    {
      "cell_type": "code",
      "source": [
        "print(response.get(\"result\"))"
      ],
      "metadata": {
        "id": "8Wa3jBEgLwXB"
      },
      "execution_count": null,
      "outputs": []
    },
    {
      "cell_type": "code",
      "source": [],
      "metadata": {
        "id": "tcdaBC5gMCzh"
      },
      "execution_count": null,
      "outputs": []
    }
  ]
}